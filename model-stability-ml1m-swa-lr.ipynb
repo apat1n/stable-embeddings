{
 "cells": [
  {
   "cell_type": "code",
   "execution_count": 1,
   "id": "13a58a05",
   "metadata": {
    "scrolled": true
   },
   "outputs": [],
   "source": [
    "from src.dataset import Dataset\n",
    "from src.postprocess_data import MinInteractionsFilter, IdsEncoder, SplitTrainValTest\n",
    "import os\n",
    "import faiss\n",
    "import random\n",
    "import numpy as np\n",
    "from collections import defaultdict\n",
    "from implicit.bpr import BayesianPersonalizedRanking\n",
    "from src.metrics import user_recall, user_ap\n",
    "\n",
    "os.environ['KMP_DUPLICATE_LIB_OK']='True'"
   ]
  },
  {
   "cell_type": "code",
   "execution_count": 2,
   "id": "f2208d15",
   "metadata": {},
   "outputs": [
    {
     "name": "stdout",
     "output_type": "stream",
     "text": [
      "users: 6034\n",
      "items: 3125\n",
      "interactions: 574376\n",
      "density: 3.05%\n"
     ]
    },
    {
     "data": {
      "text/html": [
       "<div><style>\n",
       ".dataframe > thead > tr > th,\n",
       ".dataframe > tbody > tr > td {\n",
       "  text-align: right;\n",
       "}\n",
       "</style>\n",
       "<small>shape: (574376, 3)</small><table border=\"1\" class=\"dataframe\"><thead><tr><th>user_id</th><th>item_id</th><th>event_ts</th></tr><tr><td>i64</td><td>i64</td><td>i64</td></tr></thead><tbody><tr><td>0</td><td>924</td><td>978300760</td></tr><tr><td>0</td><td>2685</td><td>978300275</td></tr><tr><td>0</td><td>1835</td><td>978824291</td></tr><tr><td>0</td><td>1015</td><td>978302039</td></tr><tr><td>0</td><td>2218</td><td>978300719</td></tr><tr><td>0</td><td>515</td><td>978302268</td></tr><tr><td>0</td><td>714</td><td>978301368</td></tr><tr><td>0</td><td>516</td><td>978824268</td></tr><tr><td>0</td><td>733</td><td>978301752</td></tr><tr><td>0</td><td>1876</td><td>978302281</td></tr><tr><td>0</td><td>2308</td><td>978302124</td></tr><tr><td>0</td><td>816</td><td>978301753</td></tr><tr><td>&hellip;</td><td>&hellip;</td><td>&hellip;</td></tr><tr><td>6033</td><td>1551</td><td>956703977</td></tr><tr><td>6033</td><td>473</td><td>956715288</td></tr><tr><td>6033</td><td>844</td><td>964828799</td></tr><tr><td>6033</td><td>480</td><td>956704746</td></tr><tr><td>6033</td><td>1554</td><td>956716207</td></tr><tr><td>6033</td><td>1560</td><td>956704519</td></tr><tr><td>6033</td><td>847</td><td>957717322</td></tr><tr><td>6033</td><td>856</td><td>956704996</td></tr><tr><td>6033</td><td>861</td><td>956704887</td></tr><tr><td>6033</td><td>491</td><td>956704746</td></tr><tr><td>6033</td><td>863</td><td>956715648</td></tr><tr><td>6033</td><td>864</td><td>956715569</td></tr></tbody></table></div>"
      ],
      "text/plain": [
       "shape: (574_376, 3)\n",
       "┌─────────┬─────────┬───────────┐\n",
       "│ user_id ┆ item_id ┆ event_ts  │\n",
       "│ ---     ┆ ---     ┆ ---       │\n",
       "│ i64     ┆ i64     ┆ i64       │\n",
       "╞═════════╪═════════╪═══════════╡\n",
       "│ 0       ┆ 924     ┆ 978300760 │\n",
       "│ 0       ┆ 2685    ┆ 978300275 │\n",
       "│ 0       ┆ 1835    ┆ 978824291 │\n",
       "│ 0       ┆ 1015    ┆ 978302039 │\n",
       "│ …       ┆ …       ┆ …         │\n",
       "│ 6033    ┆ 861     ┆ 956704887 │\n",
       "│ 6033    ┆ 491     ┆ 956704746 │\n",
       "│ 6033    ┆ 863     ┆ 956715648 │\n",
       "│ 6033    ┆ 864     ┆ 956715569 │\n",
       "└─────────┴─────────┴───────────┘"
      ]
     },
     "execution_count": 2,
     "metadata": {},
     "output_type": "execute_result"
    }
   ],
   "source": [
    "data = Dataset('ml-1m').get_data()\n",
    "\n",
    "min_iterations_filter = MinInteractionsFilter()\n",
    "ids_encoder = IdsEncoder()\n",
    "\n",
    "data = min_iterations_filter.transform(data)\n",
    "data = ids_encoder.fit_transform(data)\n",
    "\n",
    "n_users = len(data['user_id'].unique())\n",
    "n_items = len(data['item_id'].unique())\n",
    "n_interactions = len(data)\n",
    "print(f'users: {n_users}')\n",
    "print(f'items: {n_items}')\n",
    "print(f'interactions: {n_interactions}')\n",
    "print(f'density: {(n_interactions / n_users / n_items) * 100:.2f}%')\n",
    "\n",
    "splitter = SplitTrainValTest()\n",
    "train_df, val_df, test_df = splitter.transform(data)\n",
    "\n",
    "data"
   ]
  },
  {
   "cell_type": "code",
   "execution_count": 3,
   "id": "b796d4f9",
   "metadata": {
    "scrolled": true
   },
   "outputs": [
    {
     "name": "stdout",
     "output_type": "stream",
     "text": [
      "4006 users in train\n",
      "1579 users in val\n",
      "1784 users in test\n"
     ]
    }
   ],
   "source": [
    "from src.postprocess_data import create_sparse_dataset, create_positives_dataset\n",
    "\n",
    "train_dataset = create_sparse_dataset(train_df)\n",
    "train_positives = create_positives_dataset(train_df)\n",
    "val_positives = create_positives_dataset(val_df)\n",
    "test_positives = create_positives_dataset(test_df)\n",
    "\n",
    "print(f'{len(train_positives.keys())} users in train')\n",
    "print(f'{len(val_positives.keys())} users in val')\n",
    "print(f'{len(test_positives.keys())} users in test')"
   ]
  },
  {
   "cell_type": "markdown",
   "id": "3fba6554",
   "metadata": {},
   "source": [
    "## Линейный learning rate"
   ]
  },
  {
   "cell_type": "code",
   "execution_count": 4,
   "id": "28658321",
   "metadata": {},
   "outputs": [],
   "source": [
    "def linear_lr(epoch, n_epochs, lr_start, lr_end):\n",
    "    p = epoch / n_epochs\n",
    "    return lr_start * (1 - p) + lr_end * p\n",
    "\n",
    "def cyclic_lr(epoch, n_epochs, lr_start, lr_end):\n",
    "    t_i = 1 / RESTART_EPOCHS * ( (epoch - 1) % RESTART_EPOCHS + 1)\n",
    "    return lr_start * (1 - t_i) + lr_end * t_i\n",
    "\n",
    "class SWACallback:\n",
    "    def __init__(self, type_lr=\"linear_lr\"):\n",
    "        self.user_factors_swa = None\n",
    "        self.item_factors_swa = None\n",
    "        self.recall_history = defaultdict(list)\n",
    "        \n",
    "        self.type_lr = type_lr\n",
    "        \n",
    "        self.n_models = 0\n",
    "        \n",
    "    def callback_fn(self, epoch, *_):\n",
    "        if self.type_lr == \"linear_lr\":\n",
    "            model.learning_rate = linear_lr(epoch, model.iterations, LR_START, LR_END)\n",
    "        elif self.type_lr == \"cyclic_lr\":\n",
    "            model.learning_rate = cyclic_lr(epoch, model.iterations, LR_START, LR_END)\n",
    "        \n",
    "        if (epoch + 1) % RESTART_EPOCHS == 0:\n",
    "            if self.user_factors_swa is None:\n",
    "                self.user_factors_swa = model.user_factors\n",
    "                self.item_factors_swa = model.item_factors\n",
    "            else:\n",
    "                self.n_models = epoch // RESTART_EPOCHS\n",
    "                self.user_factors_swa = (self.user_factors_swa * self.n_models + model.user_factors) / (self.n_models + 1)\n",
    "                self.item_factors_swa = (self.item_factors_swa * self.n_models + model.item_factors) / (self.n_models + 1)\n",
    "        \n",
    "        index = faiss.IndexFlatIP(DIM)\n",
    "        index.add(model.item_factors)\n",
    "        recs = index.search(model.user_factors, 200)[1]\n",
    "        \n",
    "        for k in [1, 10, 20]:\n",
    "            recall_list = []\n",
    "            for user_id, y_true in val_positives.items():\n",
    "                y_pred = [\n",
    "                    item_id for item_id in recs[user_id]\n",
    "                    if item_id not in train_positives.get(user_id, set())\n",
    "                ]\n",
    "                recall_list.append(user_recall(y_pred, y_true, k))\n",
    "            self.recall_history[k].append(np.mean(recall_list))\n",
    "\n",
    "def set_seed(seed):\n",
    "    np.random.seed(seed)\n",
    "    random.seed(seed)\n",
    "\n",
    "def get_model(seed):\n",
    "    return BayesianPersonalizedRanking(\n",
    "        iterations=EPOCHS, factors=(DIM - 1), random_state=seed,\n",
    "        learning_rate=LR_START, regularization=REG_FACTOR\n",
    "    )\n"
   ]
  },
  {
   "cell_type": "markdown",
   "id": "385fdfda",
   "metadata": {},
   "source": [
    "## Линейный LR"
   ]
  },
  {
   "cell_type": "code",
   "execution_count": 13,
   "id": "b6a8c39b",
   "metadata": {
    "scrolled": true
   },
   "outputs": [
    {
     "data": {
      "application/vnd.jupyter.widget-view+json": {
       "model_id": "1d95239765af43498e86dacf1a332284",
       "version_major": 2,
       "version_minor": 0
      },
      "text/plain": [
       "  0%|          | 0/150 [00:00<?, ?it/s]"
      ]
     },
     "metadata": {},
     "output_type": "display_data"
    },
    {
     "name": "stdout",
     "output_type": "stream",
     "text": [
      "Recall@5 0.0258\n",
      "MAP@5 0.1731\n",
      "Recall@10 0.0453\n",
      "MAP@10 0.1378\n",
      "Recall@5 0.0268\n",
      "MAP@5 0.1761\n",
      "Recall@10 0.0467\n",
      "MAP@10 0.1381\n"
     ]
    },
    {
     "data": {
      "application/vnd.jupyter.widget-view+json": {
       "model_id": "b25f4a8f384b48f1b99d3263be01ce24",
       "version_major": 2,
       "version_minor": 0
      },
      "text/plain": [
       "  0%|          | 0/150 [00:00<?, ?it/s]"
      ]
     },
     "metadata": {},
     "output_type": "display_data"
    },
    {
     "name": "stdout",
     "output_type": "stream",
     "text": [
      "Recall@5 0.0253\n",
      "MAP@5 0.1734\n",
      "Recall@10 0.046\n",
      "MAP@10 0.1395\n",
      "Recall@5 0.0262\n",
      "MAP@5 0.1747\n",
      "Recall@10 0.0471\n",
      "MAP@10 0.1388\n"
     ]
    },
    {
     "data": {
      "application/vnd.jupyter.widget-view+json": {
       "model_id": "d5462a1580dd49809a19c3de197bc808",
       "version_major": 2,
       "version_minor": 0
      },
      "text/plain": [
       "  0%|          | 0/150 [00:00<?, ?it/s]"
      ]
     },
     "metadata": {},
     "output_type": "display_data"
    },
    {
     "name": "stdout",
     "output_type": "stream",
     "text": [
      "Recall@5 0.0257\n",
      "MAP@5 0.1741\n",
      "Recall@10 0.0466\n",
      "MAP@10 0.1395\n",
      "Recall@5 0.0265\n",
      "MAP@5 0.176\n",
      "Recall@10 0.0468\n",
      "MAP@10 0.1381\n"
     ]
    },
    {
     "data": {
      "application/vnd.jupyter.widget-view+json": {
       "model_id": "66e328d558c7423590901aeff9145e93",
       "version_major": 2,
       "version_minor": 0
      },
      "text/plain": [
       "  0%|          | 0/150 [00:00<?, ?it/s]"
      ]
     },
     "metadata": {},
     "output_type": "display_data"
    },
    {
     "name": "stdout",
     "output_type": "stream",
     "text": [
      "Recall@5 0.0265\n",
      "MAP@5 0.172\n",
      "Recall@10 0.0464\n",
      "MAP@10 0.1392\n",
      "Recall@5 0.027\n",
      "MAP@5 0.1765\n",
      "Recall@10 0.0472\n",
      "MAP@10 0.1398\n"
     ]
    },
    {
     "data": {
      "application/vnd.jupyter.widget-view+json": {
       "model_id": "59967e7d962444b197acd359d5d1f17f",
       "version_major": 2,
       "version_minor": 0
      },
      "text/plain": [
       "  0%|          | 0/150 [00:00<?, ?it/s]"
      ]
     },
     "metadata": {},
     "output_type": "display_data"
    },
    {
     "name": "stdout",
     "output_type": "stream",
     "text": [
      "Recall@5 0.0264\n",
      "MAP@5 0.1751\n",
      "Recall@10 0.0471\n",
      "MAP@10 0.141\n",
      "Recall@5 0.0266\n",
      "MAP@5 0.1706\n",
      "Recall@10 0.0482\n",
      "MAP@10 0.1396\n"
     ]
    },
    {
     "data": {
      "application/vnd.jupyter.widget-view+json": {
       "model_id": "1ddbf34c4ed54a8c85ac18386420784e",
       "version_major": 2,
       "version_minor": 0
      },
      "text/plain": [
       "  0%|          | 0/150 [00:00<?, ?it/s]"
      ]
     },
     "metadata": {},
     "output_type": "display_data"
    },
    {
     "name": "stdout",
     "output_type": "stream",
     "text": [
      "Recall@5 0.0261\n",
      "MAP@5 0.1728\n",
      "Recall@10 0.0464\n",
      "MAP@10 0.1385\n",
      "Recall@5 0.0261\n",
      "MAP@5 0.1753\n",
      "Recall@10 0.0481\n",
      "MAP@10 0.1412\n"
     ]
    },
    {
     "data": {
      "application/vnd.jupyter.widget-view+json": {
       "model_id": "08dca745db7a4e05ac76bd8fb0f424c1",
       "version_major": 2,
       "version_minor": 0
      },
      "text/plain": [
       "  0%|          | 0/150 [00:00<?, ?it/s]"
      ]
     },
     "metadata": {},
     "output_type": "display_data"
    },
    {
     "name": "stdout",
     "output_type": "stream",
     "text": [
      "Recall@5 0.026\n",
      "MAP@5 0.1732\n",
      "Recall@10 0.0466\n",
      "MAP@10 0.1403\n",
      "Recall@5 0.0263\n",
      "MAP@5 0.1761\n",
      "Recall@10 0.0487\n",
      "MAP@10 0.1404\n"
     ]
    },
    {
     "data": {
      "application/vnd.jupyter.widget-view+json": {
       "model_id": "88b5fc125f7341aab96ef192a297f82f",
       "version_major": 2,
       "version_minor": 0
      },
      "text/plain": [
       "  0%|          | 0/150 [00:00<?, ?it/s]"
      ]
     },
     "metadata": {},
     "output_type": "display_data"
    },
    {
     "name": "stdout",
     "output_type": "stream",
     "text": [
      "Recall@5 0.0266\n",
      "MAP@5 0.1746\n",
      "Recall@10 0.0456\n",
      "MAP@10 0.1384\n",
      "Recall@5 0.0261\n",
      "MAP@5 0.171\n",
      "Recall@10 0.0467\n",
      "MAP@10 0.1374\n"
     ]
    },
    {
     "data": {
      "application/vnd.jupyter.widget-view+json": {
       "model_id": "8f791f7af51640a08048c7bd66462b17",
       "version_major": 2,
       "version_minor": 0
      },
      "text/plain": [
       "  0%|          | 0/150 [00:00<?, ?it/s]"
      ]
     },
     "metadata": {},
     "output_type": "display_data"
    },
    {
     "name": "stdout",
     "output_type": "stream",
     "text": [
      "Recall@5 0.0268\n",
      "MAP@5 0.1727\n",
      "Recall@10 0.0459\n",
      "MAP@10 0.138\n",
      "Recall@5 0.0267\n",
      "MAP@5 0.1754\n",
      "Recall@10 0.0476\n",
      "MAP@10 0.1386\n"
     ]
    },
    {
     "data": {
      "application/vnd.jupyter.widget-view+json": {
       "model_id": "965912586c844feabdb505ac232fcad5",
       "version_major": 2,
       "version_minor": 0
      },
      "text/plain": [
       "  0%|          | 0/150 [00:00<?, ?it/s]"
      ]
     },
     "metadata": {},
     "output_type": "display_data"
    },
    {
     "name": "stdout",
     "output_type": "stream",
     "text": [
      "Recall@5 0.0255\n",
      "MAP@5 0.1694\n",
      "Recall@10 0.0463\n",
      "MAP@10 0.1382\n",
      "Recall@5 0.0265\n",
      "MAP@5 0.1731\n",
      "Recall@10 0.0458\n",
      "MAP@10 0.1365\n"
     ]
    }
   ],
   "source": [
    "results = dict()\n",
    "results_swa = dict()\n",
    "\n",
    "for i in range(10): \n",
    "    results[i] = dict()\n",
    "    results_swa[i] = dict()\n",
    "\n",
    "    train_df, val_df, test_df = splitter.transform(data)\n",
    "\n",
    "    train_dataset = create_sparse_dataset(train_df)\n",
    "    train_positives = create_positives_dataset(train_df)\n",
    "    val_positives = create_positives_dataset(val_df)\n",
    "    test_positives = create_positives_dataset(test_df)\n",
    "\n",
    "    SEED = i\n",
    "    DIM = 128\n",
    "    LR_START = 1e-2\n",
    "    LR_END = 1e-3\n",
    "    EPOCHS = 150\n",
    "    RESTART_EPOCHS = 50\n",
    "    REG_FACTOR = 1e-2\n",
    "\n",
    "    set_seed(SEED)\n",
    "    model = get_model(SEED)\n",
    "    fit_callback = SWACallback()\n",
    "    model.fit(train_dataset, callback=fit_callback.callback_fn)\n",
    "\n",
    "    # usual\n",
    "    index = faiss.IndexFlatIP(DIM)\n",
    "    index.add(model.item_factors)\n",
    "    recs = index.search(model.user_factors, 50)[1]\n",
    "\n",
    "    for k in [5, 10]:\n",
    "        map_list = []\n",
    "        recall_list = []\n",
    "        for user_id, y_true in test_positives.items():\n",
    "            y_pred = [\n",
    "                item_id for item_id in recs[user_id]\n",
    "                if item_id not in train_positives.get(user_id, set())\n",
    "            ]\n",
    "\n",
    "            map_list.append(user_ap(y_pred, y_true, k))\n",
    "            recall_list.append(user_recall(y_pred, y_true, k))\n",
    "        print(f'Recall@{k}', round(np.mean(recall_list), 4))\n",
    "        print(f'MAP@{k}', round(np.nanmean(map_list), 4))\n",
    "        results[i][f'Recall@{k}'] = round(np.mean(recall_list), 4)\n",
    "        results[i][f'MAP@{k}'] = round(np.nanmean(map_list), 4)\n",
    "        \n",
    "    # swa\n",
    "    index = faiss.IndexFlatIP(DIM)\n",
    "    index.add(fit_callback.item_factors_swa)\n",
    "    recs = index.search(fit_callback.user_factors_swa, 200)[1]\n",
    "\n",
    "    for k in [5, 10]:\n",
    "        recall_list = []\n",
    "        map_list = []\n",
    "        for user_id, y_true in test_positives.items():\n",
    "            y_pred = [\n",
    "                item_id for item_id in recs[user_id]\n",
    "                if item_id not in train_positives.get(user_id, set())\n",
    "            ]\n",
    "            map_list.append(user_ap(y_pred, y_true, k))\n",
    "            recall_list.append(user_recall(y_pred, y_true, k))\n",
    "        print(f'Recall@{k}', round(np.mean(recall_list), 4))\n",
    "        print(f'MAP@{k}', round(np.nanmean(map_list), 4))\n",
    "        results_swa[i][f'Recall@{k}'] = round(np.mean(recall_list), 4)\n",
    "        results_swa[i][f'MAP@{k}'] = round(np.nanmean(map_list), 4)"
   ]
  },
  {
   "cell_type": "code",
   "execution_count": 14,
   "id": "0672f8a4",
   "metadata": {},
   "outputs": [],
   "source": [
    "import json\n",
    "\n",
    "dataset = \"m1-1m\"\n",
    "\n",
    "json_dict = json.dumps(results_swa)\n",
    "with open(f\"result_swa_{dataset}.json\", \"w\") as outfile:\n",
    "    json.dump(json_dict, outfile)\n",
    "    \n",
    "json_dict = json.dumps(results)\n",
    "with open(f\"result_usual_{dataset}.json\", \"w\") as outfile:\n",
    "    json.dump(json_dict, outfile)"
   ]
  },
  {
   "cell_type": "code",
   "execution_count": null,
   "id": "0e4423b5",
   "metadata": {},
   "outputs": [],
   "source": []
  },
  {
   "cell_type": "markdown",
   "id": "806c233e",
   "metadata": {},
   "source": [
    "## Цикличный learning rate"
   ]
  },
  {
   "cell_type": "code",
   "execution_count": null,
   "id": "4d7e10d7",
   "metadata": {},
   "outputs": [],
   "source": [
    "results = dict()\n",
    "results_swa = dict()\n",
    "\n",
    "for i in range(10): \n",
    "    results[i] = dict()\n",
    "    results_swa[i] = dict()\n",
    "\n",
    "    train_df, val_df, test_df = splitter.transform(data)\n",
    "\n",
    "    train_dataset = create_sparse_dataset(train_df)\n",
    "    train_positives = create_positives_dataset(train_df)\n",
    "    val_positives = create_positives_dataset(val_df)\n",
    "    test_positives = create_positives_dataset(test_df)\n",
    "\n",
    "    SEED = i\n",
    "    DIM = 128\n",
    "    LR_START = 1e-2\n",
    "    LR_END = 1e-3\n",
    "    EPOCHS = 150\n",
    "    RESTART_EPOCHS = 50\n",
    "    REG_FACTOR = 1e-2\n",
    "\n",
    "    set_seed(SEED)\n",
    "    model = get_model(SEED)\n",
    "    fit_callback = SWACallback(\"cyclic_lr\")\n",
    "    model.fit(train_dataset, callback=fit_callback.callback_fn)\n",
    "\n",
    "    # usual\n",
    "    index = faiss.IndexFlatIP(DIM)\n",
    "    index.add(model.item_factors)\n",
    "    recs = index.search(model.user_factors, 50)[1]\n",
    "\n",
    "    for k in [5, 10]:\n",
    "        map_list = []\n",
    "        recall_list = []\n",
    "        for user_id, y_true in test_positives.items():\n",
    "            y_pred = [\n",
    "                item_id for item_id in recs[user_id]\n",
    "                if item_id not in train_positives.get(user_id, set())\n",
    "            ]\n",
    "\n",
    "            map_list.append(user_ap(y_pred, y_true, k))\n",
    "            recall_list.append(user_recall(y_pred, y_true, k))\n",
    "        print(f'Recall@{k}', round(np.mean(recall_list), 4))\n",
    "        print(f'MAP@{k}', round(np.nanmean(map_list), 4))\n",
    "        results[i][f'Recall@{k}'] = round(np.mean(recall_list), 4)\n",
    "        results[i][f'MAP@{k}'] = round(np.nanmean(map_list), 4)\n",
    "        \n",
    "    # swa\n",
    "    index = faiss.IndexFlatIP(DIM)\n",
    "    index.add(fit_callback.item_factors_swa)\n",
    "    recs = index.search(fit_callback.user_factors_swa, 200)[1]\n",
    "\n",
    "    for k in [5, 10]:\n",
    "        recall_list = []\n",
    "        map_list = []\n",
    "        for user_id, y_true in test_positives.items():\n",
    "            y_pred = [\n",
    "                item_id for item_id in recs[user_id]\n",
    "                if item_id not in train_positives.get(user_id, set())\n",
    "            ]\n",
    "            map_list.append(user_ap(y_pred, y_true, k))\n",
    "            recall_list.append(user_recall(y_pred, y_true, k))\n",
    "        print(f'Recall@{k}', round(np.mean(recall_list), 4))\n",
    "        print(f'MAP@{k}', round(np.nanmean(map_list), 4))\n",
    "        results_swa[i][f'Recall@{k}'] = round(np.mean(recall_list), 4)\n",
    "        results_swa[i][f'MAP@{k}'] = round(np.nanmean(map_list), 4)"
   ]
  },
  {
   "cell_type": "markdown",
   "id": "75c7539b",
   "metadata": {},
   "source": [
    "## ADD W_swd + t d"
   ]
  },
  {
   "cell_type": "code",
   "execution_count": null,
   "id": "9ca70430",
   "metadata": {},
   "outputs": [],
   "source": [
    "def linear_lr(epoch, n_epochs, lr_start, lr_end):\n",
    "    p = epoch / n_epochs\n",
    "    return lr_start * (1 - p) + lr_end * p\n",
    "\n",
    "def cyclic_lr(epoch, n_epochs, lr_start, lr_end):\n",
    "    t_i = 1 / RESTART_EPOCHS * ( (epoch - 1) % RESTART_EPOCHS + 1)\n",
    "    return lr_start * (1 - t_i) + lr_end * t_i\n",
    "\n",
    "class SWACallback:\n",
    "    def __init__(self, type_lr=\"linear_lr\"):\n",
    "        self.user_factors_swa = None\n",
    "        self.item_factors_swa = None\n",
    "        self.recall_history = defaultdict(list)\n",
    "        \n",
    "        self.type_lr = type_lr\n",
    "        \n",
    "        self.n_models = 0\n",
    "        \n",
    "    def callback_fn(self, epoch, *_):\n",
    "        if self.type_lr == \"linear_lr\":\n",
    "            model.learning_rate = linear_lr(epoch, model.iterations, LR_START, LR_END)\n",
    "        elif self.type_lr == \"cyclic_lr\":\n",
    "            model.learning_rate = cyclic_lr(epoch, model.iterations, LR_START, LR_END)\n",
    "        \n",
    "        if (epoch + 1) % RESTART_EPOCHS == 0:\n",
    "            if self.user_factors_swa is None:\n",
    "                self.user_factors_swa = model.user_factors\n",
    "                self.item_factors_swa = model.item_factors\n",
    "            else:\n",
    "                self.n_models = epoch // RESTART_EPOCHS\n",
    "                self.user_factors_swa = (self.user_factors_swa * self.n_models + model.user_factors) / (self.n_models + 1)\n",
    "                self.item_factors_swa = (self.item_factors_swa * self.n_models + model.item_factors) / (self.n_models + 1)\n",
    "        \n",
    "        index = faiss.IndexFlatIP(DIM)\n",
    "        index.add(model.item_factors)\n",
    "        recs = index.search(model.user_factors, 200)[1]\n",
    "        \n",
    "        for k in [1, 10, 20]:\n",
    "            recall_list = []\n",
    "            for user_id, y_true in val_positives.items():\n",
    "                y_pred = [\n",
    "                    item_id for item_id in recs[user_id]\n",
    "                    if item_id not in train_positives.get(user_id, set())\n",
    "                ]\n",
    "                recall_list.append(user_recall(y_pred, y_true, k))\n",
    "            self.recall_history[k].append(np.mean(recall_list))"
   ]
  },
  {
   "cell_type": "code",
   "execution_count": null,
   "id": "ed8b55ae",
   "metadata": {},
   "outputs": [],
   "source": []
  },
  {
   "cell_type": "code",
   "execution_count": null,
   "id": "43fd80bc",
   "metadata": {},
   "outputs": [],
   "source": []
  }
 ],
 "metadata": {
  "kernelspec": {
   "display_name": "Python 3",
   "language": "python",
   "name": "python3"
  },
  "language_info": {
   "codemirror_mode": {
    "name": "ipython",
    "version": 3
   },
   "file_extension": ".py",
   "mimetype": "text/x-python",
   "name": "python",
   "nbconvert_exporter": "python",
   "pygments_lexer": "ipython3",
   "version": "3.8.8"
  }
 },
 "nbformat": 4,
 "nbformat_minor": 5
}
