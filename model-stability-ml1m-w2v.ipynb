{
 "cells": [
  {
   "cell_type": "code",
   "execution_count": 1,
   "id": "13a58a05",
   "metadata": {
    "scrolled": true
   },
   "outputs": [
    {
     "name": "stdout",
     "output_type": "stream",
     "text": [
      "users: 6034\n",
      "items: 3125\n",
      "interactions: 574376\n",
      "density: 3.05%\n"
     ]
    },
    {
     "data": {
      "text/html": [
       "<div>\n",
       "<style scoped>\n",
       "    .dataframe tbody tr th:only-of-type {\n",
       "        vertical-align: middle;\n",
       "    }\n",
       "\n",
       "    .dataframe tbody tr th {\n",
       "        vertical-align: top;\n",
       "    }\n",
       "\n",
       "    .dataframe thead th {\n",
       "        text-align: right;\n",
       "    }\n",
       "\n",
       "    .dataframe td {\n",
       "        white-space: pre;\n",
       "    }\n",
       "\n",
       "    .dataframe td {\n",
       "        padding-top: 0;\n",
       "    }\n",
       "\n",
       "    .dataframe td {\n",
       "        padding-bottom: 0;\n",
       "    }\n",
       "\n",
       "    .dataframe td {\n",
       "        line-height: 95%;\n",
       "    }\n",
       "</style>\n",
       "<table border=\"1\" class=\"dataframe\">\n",
       "<small>shape: (574376, 3)</small>\n",
       "<thead>\n",
       "<tr>\n",
       "<th>\n",
       "user_id\n",
       "</th>\n",
       "<th>\n",
       "item_id\n",
       "</th>\n",
       "<th>\n",
       "event_ts\n",
       "</th>\n",
       "</tr>\n",
       "<tr>\n",
       "<td>\n",
       "i64\n",
       "</td>\n",
       "<td>\n",
       "i64\n",
       "</td>\n",
       "<td>\n",
       "i64\n",
       "</td>\n",
       "</tr>\n",
       "</thead>\n",
       "<tbody>\n",
       "<tr>\n",
       "<td>\n",
       "0\n",
       "</td>\n",
       "<td>\n",
       "924\n",
       "</td>\n",
       "<td>\n",
       "978300760\n",
       "</td>\n",
       "</tr>\n",
       "<tr>\n",
       "<td>\n",
       "0\n",
       "</td>\n",
       "<td>\n",
       "2685\n",
       "</td>\n",
       "<td>\n",
       "978300275\n",
       "</td>\n",
       "</tr>\n",
       "<tr>\n",
       "<td>\n",
       "0\n",
       "</td>\n",
       "<td>\n",
       "1835\n",
       "</td>\n",
       "<td>\n",
       "978824291\n",
       "</td>\n",
       "</tr>\n",
       "<tr>\n",
       "<td>\n",
       "0\n",
       "</td>\n",
       "<td>\n",
       "1015\n",
       "</td>\n",
       "<td>\n",
       "978302039\n",
       "</td>\n",
       "</tr>\n",
       "<tr>\n",
       "<td>\n",
       "0\n",
       "</td>\n",
       "<td>\n",
       "2218\n",
       "</td>\n",
       "<td>\n",
       "978300719\n",
       "</td>\n",
       "</tr>\n",
       "<tr>\n",
       "<td>\n",
       "0\n",
       "</td>\n",
       "<td>\n",
       "515\n",
       "</td>\n",
       "<td>\n",
       "978302268\n",
       "</td>\n",
       "</tr>\n",
       "<tr>\n",
       "<td>\n",
       "0\n",
       "</td>\n",
       "<td>\n",
       "714\n",
       "</td>\n",
       "<td>\n",
       "978301368\n",
       "</td>\n",
       "</tr>\n",
       "<tr>\n",
       "<td>\n",
       "0\n",
       "</td>\n",
       "<td>\n",
       "516\n",
       "</td>\n",
       "<td>\n",
       "978824268\n",
       "</td>\n",
       "</tr>\n",
       "<tr>\n",
       "<td>\n",
       "0\n",
       "</td>\n",
       "<td>\n",
       "733\n",
       "</td>\n",
       "<td>\n",
       "978301752\n",
       "</td>\n",
       "</tr>\n",
       "<tr>\n",
       "<td>\n",
       "0\n",
       "</td>\n",
       "<td>\n",
       "1876\n",
       "</td>\n",
       "<td>\n",
       "978302281\n",
       "</td>\n",
       "</tr>\n",
       "<tr>\n",
       "<td>\n",
       "0\n",
       "</td>\n",
       "<td>\n",
       "2308\n",
       "</td>\n",
       "<td>\n",
       "978302124\n",
       "</td>\n",
       "</tr>\n",
       "<tr>\n",
       "<td>\n",
       "0\n",
       "</td>\n",
       "<td>\n",
       "816\n",
       "</td>\n",
       "<td>\n",
       "978301753\n",
       "</td>\n",
       "</tr>\n",
       "<tr>\n",
       "<td>\n",
       "...\n",
       "</td>\n",
       "<td>\n",
       "...\n",
       "</td>\n",
       "<td>\n",
       "...\n",
       "</td>\n",
       "</tr>\n",
       "<tr>\n",
       "<td>\n",
       "6033\n",
       "</td>\n",
       "<td>\n",
       "1551\n",
       "</td>\n",
       "<td>\n",
       "956703977\n",
       "</td>\n",
       "</tr>\n",
       "<tr>\n",
       "<td>\n",
       "6033\n",
       "</td>\n",
       "<td>\n",
       "473\n",
       "</td>\n",
       "<td>\n",
       "956715288\n",
       "</td>\n",
       "</tr>\n",
       "<tr>\n",
       "<td>\n",
       "6033\n",
       "</td>\n",
       "<td>\n",
       "844\n",
       "</td>\n",
       "<td>\n",
       "964828799\n",
       "</td>\n",
       "</tr>\n",
       "<tr>\n",
       "<td>\n",
       "6033\n",
       "</td>\n",
       "<td>\n",
       "480\n",
       "</td>\n",
       "<td>\n",
       "956704746\n",
       "</td>\n",
       "</tr>\n",
       "<tr>\n",
       "<td>\n",
       "6033\n",
       "</td>\n",
       "<td>\n",
       "1554\n",
       "</td>\n",
       "<td>\n",
       "956716207\n",
       "</td>\n",
       "</tr>\n",
       "<tr>\n",
       "<td>\n",
       "6033\n",
       "</td>\n",
       "<td>\n",
       "1560\n",
       "</td>\n",
       "<td>\n",
       "956704519\n",
       "</td>\n",
       "</tr>\n",
       "<tr>\n",
       "<td>\n",
       "6033\n",
       "</td>\n",
       "<td>\n",
       "847\n",
       "</td>\n",
       "<td>\n",
       "957717322\n",
       "</td>\n",
       "</tr>\n",
       "<tr>\n",
       "<td>\n",
       "6033\n",
       "</td>\n",
       "<td>\n",
       "856\n",
       "</td>\n",
       "<td>\n",
       "956704996\n",
       "</td>\n",
       "</tr>\n",
       "<tr>\n",
       "<td>\n",
       "6033\n",
       "</td>\n",
       "<td>\n",
       "861\n",
       "</td>\n",
       "<td>\n",
       "956704887\n",
       "</td>\n",
       "</tr>\n",
       "<tr>\n",
       "<td>\n",
       "6033\n",
       "</td>\n",
       "<td>\n",
       "491\n",
       "</td>\n",
       "<td>\n",
       "956704746\n",
       "</td>\n",
       "</tr>\n",
       "<tr>\n",
       "<td>\n",
       "6033\n",
       "</td>\n",
       "<td>\n",
       "863\n",
       "</td>\n",
       "<td>\n",
       "956715648\n",
       "</td>\n",
       "</tr>\n",
       "<tr>\n",
       "<td>\n",
       "6033\n",
       "</td>\n",
       "<td>\n",
       "864\n",
       "</td>\n",
       "<td>\n",
       "956715569\n",
       "</td>\n",
       "</tr>\n",
       "</tbody>\n",
       "</table>\n",
       "</div>"
      ],
      "text/plain": [
       "shape: (574376, 3)\n",
       "┌─────────┬─────────┬───────────┐\n",
       "│ user_id ┆ item_id ┆ event_ts  │\n",
       "│ ---     ┆ ---     ┆ ---       │\n",
       "│ i64     ┆ i64     ┆ i64       │\n",
       "╞═════════╪═════════╪═══════════╡\n",
       "│ 0       ┆ 924     ┆ 978300760 │\n",
       "│ 0       ┆ 2685    ┆ 978300275 │\n",
       "│ 0       ┆ 1835    ┆ 978824291 │\n",
       "│ 0       ┆ 1015    ┆ 978302039 │\n",
       "│ ...     ┆ ...     ┆ ...       │\n",
       "│ 6033    ┆ 861     ┆ 956704887 │\n",
       "│ 6033    ┆ 491     ┆ 956704746 │\n",
       "│ 6033    ┆ 863     ┆ 956715648 │\n",
       "│ 6033    ┆ 864     ┆ 956715569 │\n",
       "└─────────┴─────────┴───────────┘"
      ]
     },
     "execution_count": 1,
     "metadata": {},
     "output_type": "execute_result"
    }
   ],
   "source": [
    "from src.dataset import Dataset\n",
    "from src.postprocess_data import MinInteractionsFilter, IdsEncoder, SplitTrainValTest\n",
    "\n",
    "data = Dataset('ml-1m').get_data()\n",
    "\n",
    "min_iterations_filter = MinInteractionsFilter()\n",
    "ids_encoder = IdsEncoder()\n",
    "\n",
    "data = min_iterations_filter.transform(data)\n",
    "data = ids_encoder.fit_transform(data)\n",
    "\n",
    "n_users = len(data['user_id'].unique())\n",
    "n_items = len(data['item_id'].unique())\n",
    "n_interactions = len(data)\n",
    "print(f'users: {n_users}')\n",
    "print(f'items: {n_items}')\n",
    "print(f'interactions: {n_interactions}')\n",
    "print(f'density: {(n_interactions / n_users / n_items) * 100:.2f}%')\n",
    "\n",
    "splitter = SplitTrainValTest()\n",
    "train_df, val_df, test_df = splitter.transform(data)\n",
    "\n",
    "data"
   ]
  },
  {
   "cell_type": "code",
   "execution_count": 2,
   "id": "b796d4f9",
   "metadata": {
    "scrolled": true
   },
   "outputs": [
    {
     "name": "stdout",
     "output_type": "stream",
     "text": [
      "4006 users in train\n",
      "1579 users in val\n",
      "1784 users in test\n"
     ]
    }
   ],
   "source": [
    "from src.postprocess_data import create_sparse_dataset, create_positives_dataset\n",
    "\n",
    "train_dataset = create_sparse_dataset(train_df)\n",
    "train_positives = create_positives_dataset(train_df)\n",
    "val_positives = create_positives_dataset(val_df)\n",
    "test_positives = create_positives_dataset(test_df)\n",
    "\n",
    "print(f'{len(train_positives.keys())} users in train')\n",
    "print(f'{len(val_positives.keys())} users in val')\n",
    "print(f'{len(test_positives.keys())} users in test')"
   ]
  },
  {
   "cell_type": "code",
   "execution_count": 3,
   "id": "d109df0e",
   "metadata": {},
   "outputs": [],
   "source": [
    "# import logging\n",
    "\n",
    "# logging.basicConfig(format='%(asctime)s : %(levelname)s : %(message)s', level=logging.INFO)"
   ]
  },
  {
   "cell_type": "code",
   "execution_count": 75,
   "id": "7c100a15",
   "metadata": {},
   "outputs": [],
   "source": [
    "train_sessions = create_positives_dataset(train_df, apply_set=False)"
   ]
  },
  {
   "cell_type": "code",
   "execution_count": 86,
   "id": "e09a0981",
   "metadata": {},
   "outputs": [],
   "source": [
    "import numpy as np\n",
    "from gensim.models import Word2Vec\n",
    "\n",
    "SEED = 42\n",
    "window_len = 2\n",
    "base_model = Word2Vec(window=window_len, sg=1, hs=0, min_count=0, vector_size=256, negative=15,\n",
    "         ns_exponent=-0.5, alpha=0.03, min_alpha=0.003, seed=SEED)\n",
    "base_model.build_vocab([seq for _, seq in train_sessions.items()], progress_per=1000000000)"
   ]
  },
  {
   "cell_type": "code",
   "execution_count": 87,
   "id": "a8e9cdbb",
   "metadata": {
    "scrolled": true
   },
   "outputs": [
    {
     "name": "stdout",
     "output_type": "stream",
     "text": [
      "[4905 7344  269 6850 3109]\n",
      "-------------------------\n",
      "SEED = 4905\n"
     ]
    },
    {
     "name": "stderr",
     "output_type": "stream",
     "text": [
      "/var/folders/bn/fp1v02yd10zd3f3v4y8t0brc0000gp/T/ipykernel_45712/3784106058.py:13: DeprecationWarning:\n",
      "\n",
      "Seeding based on hashing is deprecated\n",
      "since Python 3.9 and will be removed in a subsequent version. The only \n",
      "supported seed types are: None, int, float, str, bytes, and bytearray.\n",
      "\n"
     ]
    },
    {
     "data": {
      "application/vnd.jupyter.widget-view+json": {
       "model_id": "b101687b244645eb8cbf23eb5f046ce3",
       "version_major": 2,
       "version_minor": 0
      },
      "text/plain": [
       "  0%|          | 0/1784 [00:00<?, ?it/s]"
      ]
     },
     "metadata": {},
     "output_type": "display_data"
    },
    {
     "name": "stdout",
     "output_type": "stream",
     "text": [
      "Recall@5 0.0101\n",
      "MAP@5 0.2011\n",
      "Recall@10 0.0152\n",
      "MAP@10 0.144\n",
      "-------------------------\n",
      "SEED = 7344\n"
     ]
    },
    {
     "data": {
      "application/vnd.jupyter.widget-view+json": {
       "model_id": "e49452026e37478885d16c0d03115f46",
       "version_major": 2,
       "version_minor": 0
      },
      "text/plain": [
       "  0%|          | 0/1784 [00:00<?, ?it/s]"
      ]
     },
     "metadata": {},
     "output_type": "display_data"
    },
    {
     "name": "stdout",
     "output_type": "stream",
     "text": [
      "Recall@5 0.0099\n",
      "MAP@5 0.2009\n",
      "Recall@10 0.0166\n",
      "MAP@10 0.1639\n",
      "-------------------------\n",
      "SEED = 269\n"
     ]
    },
    {
     "data": {
      "application/vnd.jupyter.widget-view+json": {
       "model_id": "319f5585c6ab4a8db48ba3e13cfba971",
       "version_major": 2,
       "version_minor": 0
      },
      "text/plain": [
       "  0%|          | 0/1784 [00:00<?, ?it/s]"
      ]
     },
     "metadata": {},
     "output_type": "display_data"
    },
    {
     "name": "stdout",
     "output_type": "stream",
     "text": [
      "Recall@5 0.0101\n",
      "MAP@5 0.2015\n",
      "Recall@10 0.0154\n",
      "MAP@10 0.1505\n",
      "-------------------------\n",
      "SEED = 6850\n"
     ]
    },
    {
     "data": {
      "application/vnd.jupyter.widget-view+json": {
       "model_id": "ec0c6840aa584b34bb0b8f951d9faaf6",
       "version_major": 2,
       "version_minor": 0
      },
      "text/plain": [
       "  0%|          | 0/1784 [00:00<?, ?it/s]"
      ]
     },
     "metadata": {},
     "output_type": "display_data"
    },
    {
     "name": "stdout",
     "output_type": "stream",
     "text": [
      "Recall@5 0.0098\n",
      "MAP@5 0.1924\n",
      "Recall@10 0.0161\n",
      "MAP@10 0.1494\n",
      "-------------------------\n",
      "SEED = 3109\n"
     ]
    },
    {
     "data": {
      "application/vnd.jupyter.widget-view+json": {
       "model_id": "9af0016cfa854814aff69b3053b96e48",
       "version_major": 2,
       "version_minor": 0
      },
      "text/plain": [
       "  0%|          | 0/1784 [00:00<?, ?it/s]"
      ]
     },
     "metadata": {},
     "output_type": "display_data"
    },
    {
     "name": "stdout",
     "output_type": "stream",
     "text": [
      "Recall@5 0.0102\n",
      "MAP@5 0.2072\n",
      "Recall@10 0.0152\n",
      "MAP@10 0.1455\n"
     ]
    }
   ],
   "source": [
    "import random\n",
    "from tqdm.notebook import tqdm\n",
    "from collections import defaultdict\n",
    "from gensim.models import Word2Vec\n",
    "from src.metrics import user_recall, user_ap\n",
    "from copy import deepcopy\n",
    "\n",
    "\n",
    "SEED = 42\n",
    "\n",
    "def set_seed():\n",
    "    np.random.seed(SEED)\n",
    "    random.seed(SEED)\n",
    "\n",
    "\n",
    "def fit_model(sequences):\n",
    "    model = deepcopy(base_model)\n",
    "    model.train(sequences, total_examples=model.corpus_count, epochs=10, report_delay=1000000)\n",
    "    return model\n",
    "\n",
    "\n",
    "recs_by_seed = []\n",
    "models_by_seed = []\n",
    "\n",
    "seeds = np.random.choice(10_000, 5)\n",
    "print(seeds)\n",
    "\n",
    "for SEED in seeds:\n",
    "    print('-'*25)\n",
    "    print(f'SEED = {SEED}')\n",
    "    set_seed()\n",
    "    \n",
    "    model = fit_model([seq for _, seq in train_sessions.items()])\n",
    "    \n",
    "    w2v_recommendations = defaultdict(list)\n",
    "    for user_id in tqdm(test_positives.keys()):\n",
    "        preds = model.predict_output_word(\n",
    "            context_words_list=train_sessions.get(user_id, [0])[-window_len:], topn=40)\n",
    "        if preds is not None:\n",
    "            w2v_recommendations[user_id] = list(map(lambda x: x[0], preds))\n",
    "        \n",
    "    for k in [5, 10]:\n",
    "        map_list = []\n",
    "        recall_list = []\n",
    "        for user_id, y_true in val_positives.items():\n",
    "            y_pred = [\n",
    "                item_id for item_id in w2v_recommendations[user_id]\n",
    "                if item_id not in train_positives.get(user_id, set())\n",
    "            ]\n",
    "            map_list.append(user_ap(y_pred, y_true, k))\n",
    "            recall_list.append(user_recall(y_pred, y_true, k))\n",
    "        print(f'Recall@{k}', round(np.mean(recall_list), 4))\n",
    "        print(f'MAP@{k}', round(np.nanmean(map_list), 4))\n",
    "        \n",
    "    recs_by_seed.append(w2v_recommendations)\n",
    "    models_by_seed.append(model)"
   ]
  },
  {
   "cell_type": "code",
   "execution_count": 88,
   "id": "bce98478",
   "metadata": {},
   "outputs": [],
   "source": [
    "vectors_tau = [model.wv.vectors - base_model.wv.vectors for model in models_by_seed]\n",
    "syn1neg_tau = [model.syn1neg - base_model.syn1neg for model in models_by_seed]\n",
    "\n",
    "def get_model(wv_vectors, syn1neg_vectors):\n",
    "    model = deepcopy(base_model)\n",
    "    model.wv.vectors = wv_vectors.copy()\n",
    "    model.syn1neg = syn1neg_vectors.copy()\n",
    "    return model"
   ]
  },
  {
   "cell_type": "code",
   "execution_count": 91,
   "id": "308e82ff",
   "metadata": {},
   "outputs": [
    {
     "data": {
      "application/vnd.jupyter.widget-view+json": {
       "model_id": "0d28b74b8fb9469cad3562fe2768ee14",
       "version_major": 2,
       "version_minor": 0
      },
      "text/plain": [
       "  0%|          | 0/20 [00:00<?, ?it/s]"
      ]
     },
     "metadata": {},
     "output_type": "display_data"
    },
    {
     "name": "stderr",
     "output_type": "stream",
     "text": [
      "/Users/user/miniconda3/lib/python3.9/site-packages/gensim/models/word2vec.py:1849: RuntimeWarning:\n",
      "\n",
      "overflow encountered in exp\n",
      "\n",
      "/Users/user/miniconda3/lib/python3.9/site-packages/gensim/models/word2vec.py:1850: RuntimeWarning:\n",
      "\n",
      "invalid value encountered in divide\n",
      "\n"
     ]
    }
   ],
   "source": [
    "recall_at_k = defaultdict(list)\n",
    "\n",
    "best_init_alpha, best_score = None, None\n",
    "for init_alpha in tqdm(np.linspace(0.01, 1.0, 20)):\n",
    "    new_wv_vectors = base_model.wv.vectors.copy()\n",
    "    new_syn1neg = base_model.syn1neg.copy()\n",
    "\n",
    "    alpha = init_alpha\n",
    "    for tau in vectors_tau:\n",
    "        new_wv_vectors += alpha * tau\n",
    "        \n",
    "    for tau in syn1neg_tau:\n",
    "        new_syn1neg += alpha * tau\n",
    "        \n",
    "    model = get_model(new_wv_vectors, new_syn1neg)\n",
    "    \n",
    "    w2v_recommendations = defaultdict(list)\n",
    "    for user_id in test_positives.keys():\n",
    "        preds = model.predict_output_word(context_words_list=train_sessions.get(user_id, [0])[-1:], topn=40)\n",
    "        if preds is not None:\n",
    "            w2v_recommendations[user_id] = list(map(lambda x: x[0], preds))\n",
    "\n",
    "    for k in [5, 10]:\n",
    "        map_list = []\n",
    "        recall_list = []\n",
    "        for user_id, y_true in val_positives.items():\n",
    "            y_pred = [\n",
    "                item_id for item_id in w2v_recommendations[user_id]\n",
    "                if item_id not in train_positives.get(user_id, set())\n",
    "            ]\n",
    "            map_list.append(user_ap(y_pred, y_true, k))\n",
    "            recall_list.append(user_recall(y_pred, y_true, k))\n",
    "#         print(f'Recall@{k}', round(np.mean(recall_list), 4))\n",
    "#         print(f'MAP@{k}', round(np.nanmean(map_list), 4))\n",
    "        recall_at_k[k].append(np.mean(recall_list))\n",
    "        \n",
    "        if k == 10:\n",
    "            if best_score is None or best_score < np.mean(recall_list):\n",
    "                best_init_alpha, best_score = init_alpha, np.mean(recall_list)"
   ]
  },
  {
   "cell_type": "code",
   "execution_count": 92,
   "id": "694c9dcb",
   "metadata": {},
   "outputs": [
    {
     "data": {
      "application/vnd.plotly.v1+json": {
       "config": {
        "plotlyServerURL": "https://plot.ly"
       },
       "data": [
        {
         "hovertemplate": "k=5<br>init_alpha=%{x}<br>recall=%{y}<extra></extra>",
         "legendgroup": "5",
         "line": {
          "color": "#636efa",
          "dash": "solid"
         },
         "marker": {
          "symbol": "circle"
         },
         "mode": "lines",
         "name": "5",
         "orientation": "v",
         "showlegend": true,
         "type": "scatter",
         "x": [
          0.01,
          0.06210526315789474,
          0.11421052631578947,
          0.16631578947368422,
          0.21842105263157896,
          0.2705263157894737,
          0.32263157894736844,
          0.37473684210526315,
          0.4268421052631579,
          0.4789473684210527,
          0.5310526315789474,
          0.5831578947368421,
          0.6352631578947369,
          0.6873684210526316,
          0.7394736842105263,
          0.791578947368421,
          0.8436842105263158,
          0.8957894736842106,
          0.9478947368421053,
          1
         ],
         "xaxis": "x",
         "y": [
          0.00945429299768822,
          0.00876666956374759,
          0.00876666956374759,
          0.008837037588517135,
          0.008837037588517135,
          0.008837037588517135,
          0.008837037588517135,
          0.008837037588517135,
          0.008837037588517135,
          0.008837037588517135,
          0.008837037588517135,
          0.008837037588517135,
          0.008837037588517135,
          0.008824858507307022,
          0.008824858507307022,
          0.008824858507307022,
          0.008824858507307022,
          0.00850820239584407,
          0.00834555630222901,
          0.008320577239805624
         ],
         "yaxis": "y"
        },
        {
         "hovertemplate": "k=10<br>init_alpha=%{x}<br>recall=%{y}<extra></extra>",
         "legendgroup": "10",
         "line": {
          "color": "#EF553B",
          "dash": "solid"
         },
         "marker": {
          "symbol": "circle"
         },
         "mode": "lines",
         "name": "10",
         "orientation": "v",
         "showlegend": true,
         "type": "scatter",
         "x": [
          0.01,
          0.06210526315789474,
          0.11421052631578947,
          0.16631578947368422,
          0.21842105263157896,
          0.2705263157894737,
          0.32263157894736844,
          0.37473684210526315,
          0.4268421052631579,
          0.4789473684210527,
          0.5310526315789474,
          0.5831578947368421,
          0.6352631578947369,
          0.6873684210526316,
          0.7394736842105263,
          0.791578947368421,
          0.8436842105263158,
          0.8957894736842106,
          0.9478947368421053,
          1
         ],
         "xaxis": "x",
         "y": [
          0.014086467991823488,
          0.014143407963416926,
          0.014150604693222903,
          0.01512647956622519,
          0.01512647956622519,
          0.015119520091247982,
          0.015119520091247982,
          0.015119520091247982,
          0.015119520091247982,
          0.015119520091247982,
          0.015119520091247982,
          0.015119520091247982,
          0.015119520091247982,
          0.015107341010037868,
          0.015107341010037868,
          0.015107341010037868,
          0.015107341010037868,
          0.014727353676282326,
          0.014564707582667265,
          0.014465833327455364
         ],
         "yaxis": "y"
        }
       ],
       "layout": {
        "legend": {
         "title": {
          "text": "k"
         },
         "tracegroupgap": 0
        },
        "template": {
         "data": {
          "bar": [
           {
            "error_x": {
             "color": "#2a3f5f"
            },
            "error_y": {
             "color": "#2a3f5f"
            },
            "marker": {
             "line": {
              "color": "#E5ECF6",
              "width": 0.5
             },
             "pattern": {
              "fillmode": "overlay",
              "size": 10,
              "solidity": 0.2
             }
            },
            "type": "bar"
           }
          ],
          "barpolar": [
           {
            "marker": {
             "line": {
              "color": "#E5ECF6",
              "width": 0.5
             },
             "pattern": {
              "fillmode": "overlay",
              "size": 10,
              "solidity": 0.2
             }
            },
            "type": "barpolar"
           }
          ],
          "carpet": [
           {
            "aaxis": {
             "endlinecolor": "#2a3f5f",
             "gridcolor": "white",
             "linecolor": "white",
             "minorgridcolor": "white",
             "startlinecolor": "#2a3f5f"
            },
            "baxis": {
             "endlinecolor": "#2a3f5f",
             "gridcolor": "white",
             "linecolor": "white",
             "minorgridcolor": "white",
             "startlinecolor": "#2a3f5f"
            },
            "type": "carpet"
           }
          ],
          "choropleth": [
           {
            "colorbar": {
             "outlinewidth": 0,
             "ticks": ""
            },
            "type": "choropleth"
           }
          ],
          "contour": [
           {
            "colorbar": {
             "outlinewidth": 0,
             "ticks": ""
            },
            "colorscale": [
             [
              0,
              "#0d0887"
             ],
             [
              0.1111111111111111,
              "#46039f"
             ],
             [
              0.2222222222222222,
              "#7201a8"
             ],
             [
              0.3333333333333333,
              "#9c179e"
             ],
             [
              0.4444444444444444,
              "#bd3786"
             ],
             [
              0.5555555555555556,
              "#d8576b"
             ],
             [
              0.6666666666666666,
              "#ed7953"
             ],
             [
              0.7777777777777778,
              "#fb9f3a"
             ],
             [
              0.8888888888888888,
              "#fdca26"
             ],
             [
              1,
              "#f0f921"
             ]
            ],
            "type": "contour"
           }
          ],
          "contourcarpet": [
           {
            "colorbar": {
             "outlinewidth": 0,
             "ticks": ""
            },
            "type": "contourcarpet"
           }
          ],
          "heatmap": [
           {
            "colorbar": {
             "outlinewidth": 0,
             "ticks": ""
            },
            "colorscale": [
             [
              0,
              "#0d0887"
             ],
             [
              0.1111111111111111,
              "#46039f"
             ],
             [
              0.2222222222222222,
              "#7201a8"
             ],
             [
              0.3333333333333333,
              "#9c179e"
             ],
             [
              0.4444444444444444,
              "#bd3786"
             ],
             [
              0.5555555555555556,
              "#d8576b"
             ],
             [
              0.6666666666666666,
              "#ed7953"
             ],
             [
              0.7777777777777778,
              "#fb9f3a"
             ],
             [
              0.8888888888888888,
              "#fdca26"
             ],
             [
              1,
              "#f0f921"
             ]
            ],
            "type": "heatmap"
           }
          ],
          "heatmapgl": [
           {
            "colorbar": {
             "outlinewidth": 0,
             "ticks": ""
            },
            "colorscale": [
             [
              0,
              "#0d0887"
             ],
             [
              0.1111111111111111,
              "#46039f"
             ],
             [
              0.2222222222222222,
              "#7201a8"
             ],
             [
              0.3333333333333333,
              "#9c179e"
             ],
             [
              0.4444444444444444,
              "#bd3786"
             ],
             [
              0.5555555555555556,
              "#d8576b"
             ],
             [
              0.6666666666666666,
              "#ed7953"
             ],
             [
              0.7777777777777778,
              "#fb9f3a"
             ],
             [
              0.8888888888888888,
              "#fdca26"
             ],
             [
              1,
              "#f0f921"
             ]
            ],
            "type": "heatmapgl"
           }
          ],
          "histogram": [
           {
            "marker": {
             "pattern": {
              "fillmode": "overlay",
              "size": 10,
              "solidity": 0.2
             }
            },
            "type": "histogram"
           }
          ],
          "histogram2d": [
           {
            "colorbar": {
             "outlinewidth": 0,
             "ticks": ""
            },
            "colorscale": [
             [
              0,
              "#0d0887"
             ],
             [
              0.1111111111111111,
              "#46039f"
             ],
             [
              0.2222222222222222,
              "#7201a8"
             ],
             [
              0.3333333333333333,
              "#9c179e"
             ],
             [
              0.4444444444444444,
              "#bd3786"
             ],
             [
              0.5555555555555556,
              "#d8576b"
             ],
             [
              0.6666666666666666,
              "#ed7953"
             ],
             [
              0.7777777777777778,
              "#fb9f3a"
             ],
             [
              0.8888888888888888,
              "#fdca26"
             ],
             [
              1,
              "#f0f921"
             ]
            ],
            "type": "histogram2d"
           }
          ],
          "histogram2dcontour": [
           {
            "colorbar": {
             "outlinewidth": 0,
             "ticks": ""
            },
            "colorscale": [
             [
              0,
              "#0d0887"
             ],
             [
              0.1111111111111111,
              "#46039f"
             ],
             [
              0.2222222222222222,
              "#7201a8"
             ],
             [
              0.3333333333333333,
              "#9c179e"
             ],
             [
              0.4444444444444444,
              "#bd3786"
             ],
             [
              0.5555555555555556,
              "#d8576b"
             ],
             [
              0.6666666666666666,
              "#ed7953"
             ],
             [
              0.7777777777777778,
              "#fb9f3a"
             ],
             [
              0.8888888888888888,
              "#fdca26"
             ],
             [
              1,
              "#f0f921"
             ]
            ],
            "type": "histogram2dcontour"
           }
          ],
          "mesh3d": [
           {
            "colorbar": {
             "outlinewidth": 0,
             "ticks": ""
            },
            "type": "mesh3d"
           }
          ],
          "parcoords": [
           {
            "line": {
             "colorbar": {
              "outlinewidth": 0,
              "ticks": ""
             }
            },
            "type": "parcoords"
           }
          ],
          "pie": [
           {
            "automargin": true,
            "type": "pie"
           }
          ],
          "scatter": [
           {
            "fillpattern": {
             "fillmode": "overlay",
             "size": 10,
             "solidity": 0.2
            },
            "type": "scatter"
           }
          ],
          "scatter3d": [
           {
            "line": {
             "colorbar": {
              "outlinewidth": 0,
              "ticks": ""
             }
            },
            "marker": {
             "colorbar": {
              "outlinewidth": 0,
              "ticks": ""
             }
            },
            "type": "scatter3d"
           }
          ],
          "scattercarpet": [
           {
            "marker": {
             "colorbar": {
              "outlinewidth": 0,
              "ticks": ""
             }
            },
            "type": "scattercarpet"
           }
          ],
          "scattergeo": [
           {
            "marker": {
             "colorbar": {
              "outlinewidth": 0,
              "ticks": ""
             }
            },
            "type": "scattergeo"
           }
          ],
          "scattergl": [
           {
            "marker": {
             "colorbar": {
              "outlinewidth": 0,
              "ticks": ""
             }
            },
            "type": "scattergl"
           }
          ],
          "scattermapbox": [
           {
            "marker": {
             "colorbar": {
              "outlinewidth": 0,
              "ticks": ""
             }
            },
            "type": "scattermapbox"
           }
          ],
          "scatterpolar": [
           {
            "marker": {
             "colorbar": {
              "outlinewidth": 0,
              "ticks": ""
             }
            },
            "type": "scatterpolar"
           }
          ],
          "scatterpolargl": [
           {
            "marker": {
             "colorbar": {
              "outlinewidth": 0,
              "ticks": ""
             }
            },
            "type": "scatterpolargl"
           }
          ],
          "scatterternary": [
           {
            "marker": {
             "colorbar": {
              "outlinewidth": 0,
              "ticks": ""
             }
            },
            "type": "scatterternary"
           }
          ],
          "surface": [
           {
            "colorbar": {
             "outlinewidth": 0,
             "ticks": ""
            },
            "colorscale": [
             [
              0,
              "#0d0887"
             ],
             [
              0.1111111111111111,
              "#46039f"
             ],
             [
              0.2222222222222222,
              "#7201a8"
             ],
             [
              0.3333333333333333,
              "#9c179e"
             ],
             [
              0.4444444444444444,
              "#bd3786"
             ],
             [
              0.5555555555555556,
              "#d8576b"
             ],
             [
              0.6666666666666666,
              "#ed7953"
             ],
             [
              0.7777777777777778,
              "#fb9f3a"
             ],
             [
              0.8888888888888888,
              "#fdca26"
             ],
             [
              1,
              "#f0f921"
             ]
            ],
            "type": "surface"
           }
          ],
          "table": [
           {
            "cells": {
             "fill": {
              "color": "#EBF0F8"
             },
             "line": {
              "color": "white"
             }
            },
            "header": {
             "fill": {
              "color": "#C8D4E3"
             },
             "line": {
              "color": "white"
             }
            },
            "type": "table"
           }
          ]
         },
         "layout": {
          "annotationdefaults": {
           "arrowcolor": "#2a3f5f",
           "arrowhead": 0,
           "arrowwidth": 1
          },
          "autotypenumbers": "strict",
          "coloraxis": {
           "colorbar": {
            "outlinewidth": 0,
            "ticks": ""
           }
          },
          "colorscale": {
           "diverging": [
            [
             0,
             "#8e0152"
            ],
            [
             0.1,
             "#c51b7d"
            ],
            [
             0.2,
             "#de77ae"
            ],
            [
             0.3,
             "#f1b6da"
            ],
            [
             0.4,
             "#fde0ef"
            ],
            [
             0.5,
             "#f7f7f7"
            ],
            [
             0.6,
             "#e6f5d0"
            ],
            [
             0.7,
             "#b8e186"
            ],
            [
             0.8,
             "#7fbc41"
            ],
            [
             0.9,
             "#4d9221"
            ],
            [
             1,
             "#276419"
            ]
           ],
           "sequential": [
            [
             0,
             "#0d0887"
            ],
            [
             0.1111111111111111,
             "#46039f"
            ],
            [
             0.2222222222222222,
             "#7201a8"
            ],
            [
             0.3333333333333333,
             "#9c179e"
            ],
            [
             0.4444444444444444,
             "#bd3786"
            ],
            [
             0.5555555555555556,
             "#d8576b"
            ],
            [
             0.6666666666666666,
             "#ed7953"
            ],
            [
             0.7777777777777778,
             "#fb9f3a"
            ],
            [
             0.8888888888888888,
             "#fdca26"
            ],
            [
             1,
             "#f0f921"
            ]
           ],
           "sequentialminus": [
            [
             0,
             "#0d0887"
            ],
            [
             0.1111111111111111,
             "#46039f"
            ],
            [
             0.2222222222222222,
             "#7201a8"
            ],
            [
             0.3333333333333333,
             "#9c179e"
            ],
            [
             0.4444444444444444,
             "#bd3786"
            ],
            [
             0.5555555555555556,
             "#d8576b"
            ],
            [
             0.6666666666666666,
             "#ed7953"
            ],
            [
             0.7777777777777778,
             "#fb9f3a"
            ],
            [
             0.8888888888888888,
             "#fdca26"
            ],
            [
             1,
             "#f0f921"
            ]
           ]
          },
          "colorway": [
           "#636efa",
           "#EF553B",
           "#00cc96",
           "#ab63fa",
           "#FFA15A",
           "#19d3f3",
           "#FF6692",
           "#B6E880",
           "#FF97FF",
           "#FECB52"
          ],
          "font": {
           "color": "#2a3f5f"
          },
          "geo": {
           "bgcolor": "white",
           "lakecolor": "white",
           "landcolor": "#E5ECF6",
           "showlakes": true,
           "showland": true,
           "subunitcolor": "white"
          },
          "hoverlabel": {
           "align": "left"
          },
          "hovermode": "closest",
          "mapbox": {
           "style": "light"
          },
          "paper_bgcolor": "white",
          "plot_bgcolor": "#E5ECF6",
          "polar": {
           "angularaxis": {
            "gridcolor": "white",
            "linecolor": "white",
            "ticks": ""
           },
           "bgcolor": "#E5ECF6",
           "radialaxis": {
            "gridcolor": "white",
            "linecolor": "white",
            "ticks": ""
           }
          },
          "scene": {
           "xaxis": {
            "backgroundcolor": "#E5ECF6",
            "gridcolor": "white",
            "gridwidth": 2,
            "linecolor": "white",
            "showbackground": true,
            "ticks": "",
            "zerolinecolor": "white"
           },
           "yaxis": {
            "backgroundcolor": "#E5ECF6",
            "gridcolor": "white",
            "gridwidth": 2,
            "linecolor": "white",
            "showbackground": true,
            "ticks": "",
            "zerolinecolor": "white"
           },
           "zaxis": {
            "backgroundcolor": "#E5ECF6",
            "gridcolor": "white",
            "gridwidth": 2,
            "linecolor": "white",
            "showbackground": true,
            "ticks": "",
            "zerolinecolor": "white"
           }
          },
          "shapedefaults": {
           "line": {
            "color": "#2a3f5f"
           }
          },
          "ternary": {
           "aaxis": {
            "gridcolor": "white",
            "linecolor": "white",
            "ticks": ""
           },
           "baxis": {
            "gridcolor": "white",
            "linecolor": "white",
            "ticks": ""
           },
           "bgcolor": "#E5ECF6",
           "caxis": {
            "gridcolor": "white",
            "linecolor": "white",
            "ticks": ""
           }
          },
          "title": {
           "x": 0.05
          },
          "xaxis": {
           "automargin": true,
           "gridcolor": "white",
           "linecolor": "white",
           "ticks": "",
           "title": {
            "standoff": 15
           },
           "zerolinecolor": "white",
           "zerolinewidth": 2
          },
          "yaxis": {
           "automargin": true,
           "gridcolor": "white",
           "linecolor": "white",
           "ticks": "",
           "title": {
            "standoff": 15
           },
           "zerolinecolor": "white",
           "zerolinewidth": 2
          }
         }
        },
        "title": {
         "text": "recall@k on validation set"
        },
        "xaxis": {
         "anchor": "y",
         "domain": [
          0,
          1
         ],
         "title": {
          "text": "init_alpha"
         }
        },
        "yaxis": {
         "anchor": "x",
         "domain": [
          0,
          1
         ],
         "title": {
          "text": "recall"
         },
         "type": "log"
        }
       }
      },
      "text/html": [
       "<div>                            <div id=\"742819f6-dddd-4df9-bc89-3372dca4fd43\" class=\"plotly-graph-div\" style=\"height:525px; width:100%;\"></div>            <script type=\"text/javascript\">                require([\"plotly\"], function(Plotly) {                    window.PLOTLYENV=window.PLOTLYENV || {};                                    if (document.getElementById(\"742819f6-dddd-4df9-bc89-3372dca4fd43\")) {                    Plotly.newPlot(                        \"742819f6-dddd-4df9-bc89-3372dca4fd43\",                        [{\"hovertemplate\":\"k=5<br>init_alpha=%{x}<br>recall=%{y}<extra></extra>\",\"legendgroup\":\"5\",\"line\":{\"color\":\"#636efa\",\"dash\":\"solid\"},\"marker\":{\"symbol\":\"circle\"},\"mode\":\"lines\",\"name\":\"5\",\"orientation\":\"v\",\"showlegend\":true,\"x\":[0.01,0.06210526315789474,0.11421052631578947,0.16631578947368422,0.21842105263157896,0.2705263157894737,0.32263157894736844,0.37473684210526315,0.4268421052631579,0.4789473684210527,0.5310526315789474,0.5831578947368421,0.6352631578947369,0.6873684210526316,0.7394736842105263,0.791578947368421,0.8436842105263158,0.8957894736842106,0.9478947368421053,1.0],\"xaxis\":\"x\",\"y\":[0.00945429299768822,0.00876666956374759,0.00876666956374759,0.008837037588517135,0.008837037588517135,0.008837037588517135,0.008837037588517135,0.008837037588517135,0.008837037588517135,0.008837037588517135,0.008837037588517135,0.008837037588517135,0.008837037588517135,0.008824858507307022,0.008824858507307022,0.008824858507307022,0.008824858507307022,0.00850820239584407,0.00834555630222901,0.008320577239805624],\"yaxis\":\"y\",\"type\":\"scatter\"},{\"hovertemplate\":\"k=10<br>init_alpha=%{x}<br>recall=%{y}<extra></extra>\",\"legendgroup\":\"10\",\"line\":{\"color\":\"#EF553B\",\"dash\":\"solid\"},\"marker\":{\"symbol\":\"circle\"},\"mode\":\"lines\",\"name\":\"10\",\"orientation\":\"v\",\"showlegend\":true,\"x\":[0.01,0.06210526315789474,0.11421052631578947,0.16631578947368422,0.21842105263157896,0.2705263157894737,0.32263157894736844,0.37473684210526315,0.4268421052631579,0.4789473684210527,0.5310526315789474,0.5831578947368421,0.6352631578947369,0.6873684210526316,0.7394736842105263,0.791578947368421,0.8436842105263158,0.8957894736842106,0.9478947368421053,1.0],\"xaxis\":\"x\",\"y\":[0.014086467991823488,0.014143407963416926,0.014150604693222903,0.01512647956622519,0.01512647956622519,0.015119520091247982,0.015119520091247982,0.015119520091247982,0.015119520091247982,0.015119520091247982,0.015119520091247982,0.015119520091247982,0.015119520091247982,0.015107341010037868,0.015107341010037868,0.015107341010037868,0.015107341010037868,0.014727353676282326,0.014564707582667265,0.014465833327455364],\"yaxis\":\"y\",\"type\":\"scatter\"}],                        {\"template\":{\"data\":{\"histogram2dcontour\":[{\"type\":\"histogram2dcontour\",\"colorbar\":{\"outlinewidth\":0,\"ticks\":\"\"},\"colorscale\":[[0.0,\"#0d0887\"],[0.1111111111111111,\"#46039f\"],[0.2222222222222222,\"#7201a8\"],[0.3333333333333333,\"#9c179e\"],[0.4444444444444444,\"#bd3786\"],[0.5555555555555556,\"#d8576b\"],[0.6666666666666666,\"#ed7953\"],[0.7777777777777778,\"#fb9f3a\"],[0.8888888888888888,\"#fdca26\"],[1.0,\"#f0f921\"]]}],\"choropleth\":[{\"type\":\"choropleth\",\"colorbar\":{\"outlinewidth\":0,\"ticks\":\"\"}}],\"histogram2d\":[{\"type\":\"histogram2d\",\"colorbar\":{\"outlinewidth\":0,\"ticks\":\"\"},\"colorscale\":[[0.0,\"#0d0887\"],[0.1111111111111111,\"#46039f\"],[0.2222222222222222,\"#7201a8\"],[0.3333333333333333,\"#9c179e\"],[0.4444444444444444,\"#bd3786\"],[0.5555555555555556,\"#d8576b\"],[0.6666666666666666,\"#ed7953\"],[0.7777777777777778,\"#fb9f3a\"],[0.8888888888888888,\"#fdca26\"],[1.0,\"#f0f921\"]]}],\"heatmap\":[{\"type\":\"heatmap\",\"colorbar\":{\"outlinewidth\":0,\"ticks\":\"\"},\"colorscale\":[[0.0,\"#0d0887\"],[0.1111111111111111,\"#46039f\"],[0.2222222222222222,\"#7201a8\"],[0.3333333333333333,\"#9c179e\"],[0.4444444444444444,\"#bd3786\"],[0.5555555555555556,\"#d8576b\"],[0.6666666666666666,\"#ed7953\"],[0.7777777777777778,\"#fb9f3a\"],[0.8888888888888888,\"#fdca26\"],[1.0,\"#f0f921\"]]}],\"heatmapgl\":[{\"type\":\"heatmapgl\",\"colorbar\":{\"outlinewidth\":0,\"ticks\":\"\"},\"colorscale\":[[0.0,\"#0d0887\"],[0.1111111111111111,\"#46039f\"],[0.2222222222222222,\"#7201a8\"],[0.3333333333333333,\"#9c179e\"],[0.4444444444444444,\"#bd3786\"],[0.5555555555555556,\"#d8576b\"],[0.6666666666666666,\"#ed7953\"],[0.7777777777777778,\"#fb9f3a\"],[0.8888888888888888,\"#fdca26\"],[1.0,\"#f0f921\"]]}],\"contourcarpet\":[{\"type\":\"contourcarpet\",\"colorbar\":{\"outlinewidth\":0,\"ticks\":\"\"}}],\"contour\":[{\"type\":\"contour\",\"colorbar\":{\"outlinewidth\":0,\"ticks\":\"\"},\"colorscale\":[[0.0,\"#0d0887\"],[0.1111111111111111,\"#46039f\"],[0.2222222222222222,\"#7201a8\"],[0.3333333333333333,\"#9c179e\"],[0.4444444444444444,\"#bd3786\"],[0.5555555555555556,\"#d8576b\"],[0.6666666666666666,\"#ed7953\"],[0.7777777777777778,\"#fb9f3a\"],[0.8888888888888888,\"#fdca26\"],[1.0,\"#f0f921\"]]}],\"surface\":[{\"type\":\"surface\",\"colorbar\":{\"outlinewidth\":0,\"ticks\":\"\"},\"colorscale\":[[0.0,\"#0d0887\"],[0.1111111111111111,\"#46039f\"],[0.2222222222222222,\"#7201a8\"],[0.3333333333333333,\"#9c179e\"],[0.4444444444444444,\"#bd3786\"],[0.5555555555555556,\"#d8576b\"],[0.6666666666666666,\"#ed7953\"],[0.7777777777777778,\"#fb9f3a\"],[0.8888888888888888,\"#fdca26\"],[1.0,\"#f0f921\"]]}],\"mesh3d\":[{\"type\":\"mesh3d\",\"colorbar\":{\"outlinewidth\":0,\"ticks\":\"\"}}],\"scatter\":[{\"fillpattern\":{\"fillmode\":\"overlay\",\"size\":10,\"solidity\":0.2},\"type\":\"scatter\"}],\"parcoords\":[{\"type\":\"parcoords\",\"line\":{\"colorbar\":{\"outlinewidth\":0,\"ticks\":\"\"}}}],\"scatterpolargl\":[{\"type\":\"scatterpolargl\",\"marker\":{\"colorbar\":{\"outlinewidth\":0,\"ticks\":\"\"}}}],\"bar\":[{\"error_x\":{\"color\":\"#2a3f5f\"},\"error_y\":{\"color\":\"#2a3f5f\"},\"marker\":{\"line\":{\"color\":\"#E5ECF6\",\"width\":0.5},\"pattern\":{\"fillmode\":\"overlay\",\"size\":10,\"solidity\":0.2}},\"type\":\"bar\"}],\"scattergeo\":[{\"type\":\"scattergeo\",\"marker\":{\"colorbar\":{\"outlinewidth\":0,\"ticks\":\"\"}}}],\"scatterpolar\":[{\"type\":\"scatterpolar\",\"marker\":{\"colorbar\":{\"outlinewidth\":0,\"ticks\":\"\"}}}],\"histogram\":[{\"marker\":{\"pattern\":{\"fillmode\":\"overlay\",\"size\":10,\"solidity\":0.2}},\"type\":\"histogram\"}],\"scattergl\":[{\"type\":\"scattergl\",\"marker\":{\"colorbar\":{\"outlinewidth\":0,\"ticks\":\"\"}}}],\"scatter3d\":[{\"type\":\"scatter3d\",\"line\":{\"colorbar\":{\"outlinewidth\":0,\"ticks\":\"\"}},\"marker\":{\"colorbar\":{\"outlinewidth\":0,\"ticks\":\"\"}}}],\"scattermapbox\":[{\"type\":\"scattermapbox\",\"marker\":{\"colorbar\":{\"outlinewidth\":0,\"ticks\":\"\"}}}],\"scatterternary\":[{\"type\":\"scatterternary\",\"marker\":{\"colorbar\":{\"outlinewidth\":0,\"ticks\":\"\"}}}],\"scattercarpet\":[{\"type\":\"scattercarpet\",\"marker\":{\"colorbar\":{\"outlinewidth\":0,\"ticks\":\"\"}}}],\"carpet\":[{\"aaxis\":{\"endlinecolor\":\"#2a3f5f\",\"gridcolor\":\"white\",\"linecolor\":\"white\",\"minorgridcolor\":\"white\",\"startlinecolor\":\"#2a3f5f\"},\"baxis\":{\"endlinecolor\":\"#2a3f5f\",\"gridcolor\":\"white\",\"linecolor\":\"white\",\"minorgridcolor\":\"white\",\"startlinecolor\":\"#2a3f5f\"},\"type\":\"carpet\"}],\"table\":[{\"cells\":{\"fill\":{\"color\":\"#EBF0F8\"},\"line\":{\"color\":\"white\"}},\"header\":{\"fill\":{\"color\":\"#C8D4E3\"},\"line\":{\"color\":\"white\"}},\"type\":\"table\"}],\"barpolar\":[{\"marker\":{\"line\":{\"color\":\"#E5ECF6\",\"width\":0.5},\"pattern\":{\"fillmode\":\"overlay\",\"size\":10,\"solidity\":0.2}},\"type\":\"barpolar\"}],\"pie\":[{\"automargin\":true,\"type\":\"pie\"}]},\"layout\":{\"autotypenumbers\":\"strict\",\"colorway\":[\"#636efa\",\"#EF553B\",\"#00cc96\",\"#ab63fa\",\"#FFA15A\",\"#19d3f3\",\"#FF6692\",\"#B6E880\",\"#FF97FF\",\"#FECB52\"],\"font\":{\"color\":\"#2a3f5f\"},\"hovermode\":\"closest\",\"hoverlabel\":{\"align\":\"left\"},\"paper_bgcolor\":\"white\",\"plot_bgcolor\":\"#E5ECF6\",\"polar\":{\"bgcolor\":\"#E5ECF6\",\"angularaxis\":{\"gridcolor\":\"white\",\"linecolor\":\"white\",\"ticks\":\"\"},\"radialaxis\":{\"gridcolor\":\"white\",\"linecolor\":\"white\",\"ticks\":\"\"}},\"ternary\":{\"bgcolor\":\"#E5ECF6\",\"aaxis\":{\"gridcolor\":\"white\",\"linecolor\":\"white\",\"ticks\":\"\"},\"baxis\":{\"gridcolor\":\"white\",\"linecolor\":\"white\",\"ticks\":\"\"},\"caxis\":{\"gridcolor\":\"white\",\"linecolor\":\"white\",\"ticks\":\"\"}},\"coloraxis\":{\"colorbar\":{\"outlinewidth\":0,\"ticks\":\"\"}},\"colorscale\":{\"sequential\":[[0.0,\"#0d0887\"],[0.1111111111111111,\"#46039f\"],[0.2222222222222222,\"#7201a8\"],[0.3333333333333333,\"#9c179e\"],[0.4444444444444444,\"#bd3786\"],[0.5555555555555556,\"#d8576b\"],[0.6666666666666666,\"#ed7953\"],[0.7777777777777778,\"#fb9f3a\"],[0.8888888888888888,\"#fdca26\"],[1.0,\"#f0f921\"]],\"sequentialminus\":[[0.0,\"#0d0887\"],[0.1111111111111111,\"#46039f\"],[0.2222222222222222,\"#7201a8\"],[0.3333333333333333,\"#9c179e\"],[0.4444444444444444,\"#bd3786\"],[0.5555555555555556,\"#d8576b\"],[0.6666666666666666,\"#ed7953\"],[0.7777777777777778,\"#fb9f3a\"],[0.8888888888888888,\"#fdca26\"],[1.0,\"#f0f921\"]],\"diverging\":[[0,\"#8e0152\"],[0.1,\"#c51b7d\"],[0.2,\"#de77ae\"],[0.3,\"#f1b6da\"],[0.4,\"#fde0ef\"],[0.5,\"#f7f7f7\"],[0.6,\"#e6f5d0\"],[0.7,\"#b8e186\"],[0.8,\"#7fbc41\"],[0.9,\"#4d9221\"],[1,\"#276419\"]]},\"xaxis\":{\"gridcolor\":\"white\",\"linecolor\":\"white\",\"ticks\":\"\",\"title\":{\"standoff\":15},\"zerolinecolor\":\"white\",\"automargin\":true,\"zerolinewidth\":2},\"yaxis\":{\"gridcolor\":\"white\",\"linecolor\":\"white\",\"ticks\":\"\",\"title\":{\"standoff\":15},\"zerolinecolor\":\"white\",\"automargin\":true,\"zerolinewidth\":2},\"scene\":{\"xaxis\":{\"backgroundcolor\":\"#E5ECF6\",\"gridcolor\":\"white\",\"linecolor\":\"white\",\"showbackground\":true,\"ticks\":\"\",\"zerolinecolor\":\"white\",\"gridwidth\":2},\"yaxis\":{\"backgroundcolor\":\"#E5ECF6\",\"gridcolor\":\"white\",\"linecolor\":\"white\",\"showbackground\":true,\"ticks\":\"\",\"zerolinecolor\":\"white\",\"gridwidth\":2},\"zaxis\":{\"backgroundcolor\":\"#E5ECF6\",\"gridcolor\":\"white\",\"linecolor\":\"white\",\"showbackground\":true,\"ticks\":\"\",\"zerolinecolor\":\"white\",\"gridwidth\":2}},\"shapedefaults\":{\"line\":{\"color\":\"#2a3f5f\"}},\"annotationdefaults\":{\"arrowcolor\":\"#2a3f5f\",\"arrowhead\":0,\"arrowwidth\":1},\"geo\":{\"bgcolor\":\"white\",\"landcolor\":\"#E5ECF6\",\"subunitcolor\":\"white\",\"showland\":true,\"showlakes\":true,\"lakecolor\":\"white\"},\"title\":{\"x\":0.05},\"mapbox\":{\"style\":\"light\"}}},\"xaxis\":{\"anchor\":\"y\",\"domain\":[0.0,1.0],\"title\":{\"text\":\"init_alpha\"}},\"yaxis\":{\"anchor\":\"x\",\"domain\":[0.0,1.0],\"title\":{\"text\":\"recall\"},\"type\":\"log\"},\"legend\":{\"title\":{\"text\":\"k\"},\"tracegroupgap\":0},\"title\":{\"text\":\"recall@k on validation set\"}},                        {\"responsive\": true}                    ).then(function(){\n",
       "                            \n",
       "var gd = document.getElementById('742819f6-dddd-4df9-bc89-3372dca4fd43');\n",
       "var x = new MutationObserver(function (mutations, observer) {{\n",
       "        var display = window.getComputedStyle(gd).display;\n",
       "        if (!display || display === 'none') {{\n",
       "            console.log([gd, 'removed!']);\n",
       "            Plotly.purge(gd);\n",
       "            observer.disconnect();\n",
       "        }}\n",
       "}});\n",
       "\n",
       "// Listen for the removal of the full notebook cells\n",
       "var notebookContainer = gd.closest('#notebook-container');\n",
       "if (notebookContainer) {{\n",
       "    x.observe(notebookContainer, {childList: true});\n",
       "}}\n",
       "\n",
       "// Listen for the clearing of the current output cell\n",
       "var outputEl = gd.closest('.output');\n",
       "if (outputEl) {{\n",
       "    x.observe(outputEl, {childList: true});\n",
       "}}\n",
       "\n",
       "                        })                };                });            </script>        </div>"
      ]
     },
     "metadata": {},
     "output_type": "display_data"
    }
   ],
   "source": [
    "import pandas as pd\n",
    "import plotly.express as px\n",
    "\n",
    "df = pd.concat([\n",
    "    pd.DataFrame({\n",
    "        'init_alpha': np.linspace(0.01, 1.0, 20),\n",
    "        'recall': v,\n",
    "        'k': [k for _ in v]\n",
    "    })\n",
    "    for k, v in recall_at_k.items()\n",
    "])\n",
    "fig = px.line(\n",
    "    df, x=\"init_alpha\", y=\"recall\", color='k',\n",
    "    title='recall@k on validation set', log_y=True\n",
    ")\n",
    "fig.show()"
   ]
  },
  {
   "cell_type": "code",
   "execution_count": 93,
   "id": "9a22a201",
   "metadata": {},
   "outputs": [
    {
     "name": "stdout",
     "output_type": "stream",
     "text": [
      "init_alpha = 0.16631578947368422\n"
     ]
    },
    {
     "data": {
      "application/vnd.jupyter.widget-view+json": {
       "model_id": "93d85b8ff5734fb08f9e444612198bc6",
       "version_major": 2,
       "version_minor": 0
      },
      "text/plain": [
       "  0%|          | 0/1784 [00:00<?, ?it/s]"
      ]
     },
     "metadata": {},
     "output_type": "display_data"
    },
    {
     "name": "stdout",
     "output_type": "stream",
     "text": [
      "Recall@5 0.0189\n",
      "MAP@5 0.1112\n",
      "Recall@10 0.0327\n",
      "MAP@10 0.0854\n"
     ]
    }
   ],
   "source": [
    "init_alpha = best_init_alpha\n",
    "print(f'init_alpha = {best_init_alpha}')\n",
    "\n",
    "new_wv_vectors = base_model.wv.vectors.copy()\n",
    "new_syn1neg = base_model.syn1neg.copy()\n",
    "\n",
    "alpha = init_alpha\n",
    "for tau in vectors_tau:\n",
    "    new_wv_vectors += alpha * tau\n",
    "\n",
    "for tau in syn1neg_tau:\n",
    "    new_syn1neg += alpha * tau\n",
    "\n",
    "model = get_model(new_wv_vectors, new_syn1neg)\n",
    "\n",
    "w2v_recommendations = defaultdict(list)\n",
    "for user_id in tqdm(test_positives.keys()):\n",
    "    preds = model.predict_output_word(context_words_list=train_sessions.get(user_id, [0])[-1:], topn=40)\n",
    "    if preds is not None:\n",
    "        w2v_recommendations[user_id] = list(map(lambda x: x[0], preds))\n",
    "\n",
    "for k in [5, 10]:\n",
    "    map_list = []\n",
    "    recall_list = []\n",
    "    for user_id, y_true in test_positives.items():\n",
    "        y_pred = [\n",
    "            item_id for item_id in w2v_recommendations[user_id]\n",
    "            if item_id not in train_positives.get(user_id, set())\n",
    "        ]\n",
    "        map_list.append(user_ap(y_pred, y_true, k))\n",
    "        recall_list.append(user_recall(y_pred, y_true, k))\n",
    "    print(f'Recall@{k}', round(np.mean(recall_list), 4))\n",
    "    print(f'MAP@{k}', round(np.nanmean(map_list), 4))"
   ]
  },
  {
   "cell_type": "code",
   "execution_count": 94,
   "id": "6b68af47",
   "metadata": {
    "scrolled": true
   },
   "outputs": [
    {
     "data": {
      "application/vnd.jupyter.widget-view+json": {
       "model_id": "cb2dec00b2f5422c994dbe8b6659359e",
       "version_major": 2,
       "version_minor": 0
      },
      "text/plain": [
       "  0%|          | 0/1784 [00:00<?, ?it/s]"
      ]
     },
     "metadata": {},
     "output_type": "display_data"
    },
    {
     "name": "stdout",
     "output_type": "stream",
     "text": [
      "Recall@5 0.0188\n",
      "MAP@5 0.1106\n",
      "Recall@10 0.0304\n",
      "MAP@10 0.0816\n",
      "-------------------------\n"
     ]
    },
    {
     "data": {
      "application/vnd.jupyter.widget-view+json": {
       "model_id": "931690b63a274c06b7a77f9aa35bf7bb",
       "version_major": 2,
       "version_minor": 0
      },
      "text/plain": [
       "  0%|          | 0/1784 [00:00<?, ?it/s]"
      ]
     },
     "metadata": {},
     "output_type": "display_data"
    },
    {
     "name": "stdout",
     "output_type": "stream",
     "text": [
      "Recall@5 0.0184\n",
      "MAP@5 0.1127\n",
      "Recall@10 0.035\n",
      "MAP@10 0.0902\n",
      "-------------------------\n"
     ]
    },
    {
     "data": {
      "application/vnd.jupyter.widget-view+json": {
       "model_id": "acd9fa0f58374c489531909ba57a7c28",
       "version_major": 2,
       "version_minor": 0
      },
      "text/plain": [
       "  0%|          | 0/1784 [00:00<?, ?it/s]"
      ]
     },
     "metadata": {},
     "output_type": "display_data"
    },
    {
     "name": "stdout",
     "output_type": "stream",
     "text": [
      "Recall@5 0.0194\n",
      "MAP@5 0.1118\n",
      "Recall@10 0.0312\n",
      "MAP@10 0.0835\n",
      "-------------------------\n"
     ]
    },
    {
     "data": {
      "application/vnd.jupyter.widget-view+json": {
       "model_id": "04b88a5a0ca645a3b0ca28ff0986f15d",
       "version_major": 2,
       "version_minor": 0
      },
      "text/plain": [
       "  0%|          | 0/1784 [00:00<?, ?it/s]"
      ]
     },
     "metadata": {},
     "output_type": "display_data"
    },
    {
     "name": "stdout",
     "output_type": "stream",
     "text": [
      "Recall@5 0.0187\n",
      "MAP@5 0.1089\n",
      "Recall@10 0.0319\n",
      "MAP@10 0.0841\n",
      "-------------------------\n"
     ]
    },
    {
     "data": {
      "application/vnd.jupyter.widget-view+json": {
       "model_id": "38799c31214d46218e80ffec0240fc8a",
       "version_major": 2,
       "version_minor": 0
      },
      "text/plain": [
       "  0%|          | 0/1784 [00:00<?, ?it/s]"
      ]
     },
     "metadata": {},
     "output_type": "display_data"
    },
    {
     "name": "stdout",
     "output_type": "stream",
     "text": [
      "Recall@5 0.0204\n",
      "MAP@5 0.1167\n",
      "Recall@10 0.031\n",
      "MAP@10 0.0823\n",
      "-------------------------\n"
     ]
    }
   ],
   "source": [
    "for model in models_by_seed:\n",
    "    w2v_recommendations = defaultdict(list)\n",
    "    for user_id in tqdm(test_positives.keys()):\n",
    "        preds = model.predict_output_word(context_words_list=train_sessions.get(user_id, [0])[-1:], topn=40)\n",
    "        if preds is not None:\n",
    "            w2v_recommendations[user_id] = list(map(lambda x: x[0], preds))\n",
    "\n",
    "    for k in [5, 10]:\n",
    "        map_list = []\n",
    "        recall_list = []\n",
    "        for user_id, y_true in test_positives.items():\n",
    "            y_pred = [\n",
    "                item_id for item_id in w2v_recommendations[user_id]\n",
    "                if item_id not in train_positives.get(user_id, set())\n",
    "            ]\n",
    "            map_list.append(user_ap(y_pred, y_true, k))\n",
    "            recall_list.append(user_recall(y_pred, y_true, k))\n",
    "        print(f'Recall@{k}', round(np.mean(recall_list), 4))\n",
    "        print(f'MAP@{k}', round(np.nanmean(map_list), 4))\n",
    "    print('-'*25)"
   ]
  }
 ],
 "metadata": {
  "kernelspec": {
   "display_name": "Python 3 (ipykernel)",
   "language": "python",
   "name": "python3"
  },
  "language_info": {
   "codemirror_mode": {
    "name": "ipython",
    "version": 3
   },
   "file_extension": ".py",
   "mimetype": "text/x-python",
   "name": "python",
   "nbconvert_exporter": "python",
   "pygments_lexer": "ipython3",
   "version": "3.9.12"
  }
 },
 "nbformat": 4,
 "nbformat_minor": 5
}
