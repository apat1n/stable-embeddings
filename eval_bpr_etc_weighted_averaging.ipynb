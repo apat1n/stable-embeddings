{
 "cells": [
  {
   "cell_type": "code",
   "execution_count": 7,
   "id": "0485a673",
   "metadata": {},
   "outputs": [],
   "source": [
    "import sys\n",
    "sys.path.append(\"/home/ifilipov/stable-embeddings/src\") "
   ]
  },
  {
   "cell_type": "code",
   "execution_count": 8,
   "id": "12b9c018",
   "metadata": {},
   "outputs": [],
   "source": [
    "dataset = \"bcr\""
   ]
  },
  {
   "cell_type": "code",
   "execution_count": 9,
   "id": "13a58a05",
   "metadata": {
    "scrolled": true
   },
   "outputs": [],
   "source": [
    "from dataset import Dataset\n",
    "from postprocess_data import MinInteractionsFilter, IdsEncoder, SplitTrainValTest\n",
    "\n",
    "data = Dataset(dataset).get_data()\n",
    "\n",
    "min_iterations_filter = MinInteractionsFilter()\n",
    "ids_encoder = IdsEncoder()\n",
    "\n",
    "data = min_iterations_filter.transform(data)\n",
    "data = ids_encoder.fit_transform(data)\n",
    "\n",
    "n_users = len(data['user_id'].unique())\n",
    "n_items = len(data['item_id'].unique())\n",
    "n_interactions = len(data)\n",
    "\n",
    "splitter = SplitTrainValTest()"
   ]
  },
  {
   "cell_type": "code",
   "execution_count": 10,
   "id": "34461f11",
   "metadata": {},
   "outputs": [],
   "source": [
    "import faiss\n",
    "import random\n",
    "import numpy as np\n",
    "from collections import defaultdict\n",
    "from implicit.bpr import BayesianPersonalizedRanking\n",
    "\n",
    "from metrics import user_recall, user_ap\n",
    "\n",
    "def linear_lr(epoch, n_epochs, lr_start, lr_end):\n",
    "    p = epoch / n_epochs\n",
    "    return lr_start * (1 - p) + lr_end * p\n",
    "\n",
    "def cosine_annealing_warm_restart(epoch, n_epochs, lr_start, lr_end, t_i):\n",
    "    # https://pytorch.org/docs/stable/generated/torch.optim.lr_scheduler.CosineAnnealingWarmRestarts.html#torch.optim.lr_scheduler.CosineAnnealingWarmRestarts\n",
    "    t_cur = epoch % t_i\n",
    "    # modification to make lr after restart closer to lr_end \n",
    "    linear_coef = (n_epochs - epoch) / n_epochs\n",
    "    return lr_end + linear_coef * (lr_start - lr_end) * (1 + np.cos(np.pi * t_cur / t_i)) / 2\n",
    "\n",
    "class CallbackClass:\n",
    "    def __init__(self):\n",
    "        pass\n",
    "        \n",
    "    def callback_fn(self, epoch, *_):        \n",
    "        pass\n",
    "\n",
    "def set_seed(seed):\n",
    "    np.random.seed(seed)\n",
    "    random.seed(seed)\n",
    "\n",
    "def get_model(seed):\n",
    "    return BayesianPersonalizedRanking(\n",
    "        iterations=EPOCHS, factors=(DIM - 1), random_state=seed,\n",
    "        learning_rate=LR_START, regularization=REG_FACTOR\n",
    "    )"
   ]
  },
  {
   "cell_type": "code",
   "execution_count": 11,
   "id": "a5e2d1af",
   "metadata": {},
   "outputs": [],
   "source": [
    "from postprocess_data import create_sparse_dataset, create_positives_dataset"
   ]
  },
  {
   "cell_type": "code",
   "execution_count": null,
   "id": "9965c059",
   "metadata": {},
   "outputs": [
    {
     "data": {
      "application/vnd.jupyter.widget-view+json": {
       "model_id": "1ced33c0e36a438888579ea69bc70749",
       "version_major": 2,
       "version_minor": 0
      },
      "text/plain": [
       "0it [00:00, ?it/s]"
      ]
     },
     "metadata": {},
     "output_type": "display_data"
    },
    {
     "data": {
      "application/vnd.jupyter.widget-view+json": {
       "model_id": "5e17a38abadf4578b2b73270714d413a",
       "version_major": 2,
       "version_minor": 0
      },
      "text/plain": [
       "  0%|          | 0/300 [00:00<?, ?it/s]"
      ]
     },
     "metadata": {},
     "output_type": "display_data"
    },
    {
     "data": {
      "application/vnd.jupyter.widget-view+json": {
       "model_id": "9a4615da0e2b44539033a959f1e51f8b",
       "version_major": 2,
       "version_minor": 0
      },
      "text/plain": [
       "  0%|          | 0/300 [00:00<?, ?it/s]"
      ]
     },
     "metadata": {},
     "output_type": "display_data"
    },
    {
     "data": {
      "application/vnd.jupyter.widget-view+json": {
       "model_id": "a819a35e325e4884a1e53db26370e274",
       "version_major": 2,
       "version_minor": 0
      },
      "text/plain": [
       "  0%|          | 0/300 [00:00<?, ?it/s]"
      ]
     },
     "metadata": {},
     "output_type": "display_data"
    },
    {
     "data": {
      "application/vnd.jupyter.widget-view+json": {
       "model_id": "7f133c497f974e7ab97d5a1c19d0baf8",
       "version_major": 2,
       "version_minor": 0
      },
      "text/plain": [
       "  0%|          | 0/300 [00:00<?, ?it/s]"
      ]
     },
     "metadata": {},
     "output_type": "display_data"
    },
    {
     "data": {
      "application/vnd.jupyter.widget-view+json": {
       "model_id": "a5d35bca5510490087bbe5874d071929",
       "version_major": 2,
       "version_minor": 0
      },
      "text/plain": [
       "  0%|          | 0/300 [00:00<?, ?it/s]"
      ]
     },
     "metadata": {},
     "output_type": "display_data"
    },
    {
     "data": {
      "application/vnd.jupyter.widget-view+json": {
       "model_id": "eadbca8cb60f49afb716bd43026345c6",
       "version_major": 2,
       "version_minor": 0
      },
      "text/plain": [
       "  0%|          | 0/300 [00:00<?, ?it/s]"
      ]
     },
     "metadata": {},
     "output_type": "display_data"
    },
    {
     "data": {
      "application/vnd.jupyter.widget-view+json": {
       "model_id": "e29e5cd8cc424302a9f28b0f4f682044",
       "version_major": 2,
       "version_minor": 0
      },
      "text/plain": [
       "  0%|          | 0/300 [00:00<?, ?it/s]"
      ]
     },
     "metadata": {},
     "output_type": "display_data"
    },
    {
     "data": {
      "application/vnd.jupyter.widget-view+json": {
       "model_id": "9d809ef614c44664b31d20ec860e1e5d",
       "version_major": 2,
       "version_minor": 0
      },
      "text/plain": [
       "  0%|          | 0/300 [00:00<?, ?it/s]"
      ]
     },
     "metadata": {},
     "output_type": "display_data"
    },
    {
     "data": {
      "application/vnd.jupyter.widget-view+json": {
       "model_id": "ebf49a82e6914085a2b9cb7aa82f8936",
       "version_major": 2,
       "version_minor": 0
      },
      "text/plain": [
       "  0%|          | 0/300 [00:00<?, ?it/s]"
      ]
     },
     "metadata": {},
     "output_type": "display_data"
    },
    {
     "data": {
      "application/vnd.jupyter.widget-view+json": {
       "model_id": "65a65190107e40389dfb9c85d807904f",
       "version_major": 2,
       "version_minor": 0
      },
      "text/plain": [
       "  0%|          | 0/300 [00:00<?, ?it/s]"
      ]
     },
     "metadata": {},
     "output_type": "display_data"
    },
    {
     "name": "stdout",
     "output_type": "stream",
     "text": [
      "Test TAUS\n",
      "Test each seed\n",
      "Test ensemble\n"
     ]
    },
    {
     "data": {
      "application/vnd.jupyter.widget-view+json": {
       "model_id": "ce1d1267fe274216bb9f9bdb23a32f40",
       "version_major": 2,
       "version_minor": 0
      },
      "text/plain": [
       "0it [00:00, ?it/s]"
      ]
     },
     "metadata": {},
     "output_type": "display_data"
    },
    {
     "data": {
      "application/vnd.jupyter.widget-view+json": {
       "model_id": "abd43cec4e2f4218b8bbb8fada84da72",
       "version_major": 2,
       "version_minor": 0
      },
      "text/plain": [
       "  0%|          | 0/300 [00:00<?, ?it/s]"
      ]
     },
     "metadata": {},
     "output_type": "display_data"
    },
    {
     "data": {
      "application/vnd.jupyter.widget-view+json": {
       "model_id": "9753f294232349d9afeaecaa7a436d7b",
       "version_major": 2,
       "version_minor": 0
      },
      "text/plain": [
       "  0%|          | 0/300 [00:00<?, ?it/s]"
      ]
     },
     "metadata": {},
     "output_type": "display_data"
    },
    {
     "data": {
      "application/vnd.jupyter.widget-view+json": {
       "model_id": "157ae5e6520646d6a46a91385d96deda",
       "version_major": 2,
       "version_minor": 0
      },
      "text/plain": [
       "  0%|          | 0/300 [00:00<?, ?it/s]"
      ]
     },
     "metadata": {},
     "output_type": "display_data"
    },
    {
     "data": {
      "application/vnd.jupyter.widget-view+json": {
       "model_id": "463f1bcae3a14faa908968daf3da2620",
       "version_major": 2,
       "version_minor": 0
      },
      "text/plain": [
       "  0%|          | 0/300 [00:00<?, ?it/s]"
      ]
     },
     "metadata": {},
     "output_type": "display_data"
    },
    {
     "data": {
      "application/vnd.jupyter.widget-view+json": {
       "model_id": "71be0fc464cf4a8baa253a60b4cffe57",
       "version_major": 2,
       "version_minor": 0
      },
      "text/plain": [
       "  0%|          | 0/300 [00:00<?, ?it/s]"
      ]
     },
     "metadata": {},
     "output_type": "display_data"
    },
    {
     "data": {
      "application/vnd.jupyter.widget-view+json": {
       "model_id": "fd3d3ef7f52a43ef95bd257ad5196ba7",
       "version_major": 2,
       "version_minor": 0
      },
      "text/plain": [
       "  0%|          | 0/300 [00:00<?, ?it/s]"
      ]
     },
     "metadata": {},
     "output_type": "display_data"
    },
    {
     "data": {
      "application/vnd.jupyter.widget-view+json": {
       "model_id": "2d3fd4a469ae45f58629a2504f9b38f6",
       "version_major": 2,
       "version_minor": 0
      },
      "text/plain": [
       "  0%|          | 0/300 [00:00<?, ?it/s]"
      ]
     },
     "metadata": {},
     "output_type": "display_data"
    },
    {
     "data": {
      "application/vnd.jupyter.widget-view+json": {
       "model_id": "8a4c856333dd43ceb700352963a5c1a6",
       "version_major": 2,
       "version_minor": 0
      },
      "text/plain": [
       "  0%|          | 0/300 [00:00<?, ?it/s]"
      ]
     },
     "metadata": {},
     "output_type": "display_data"
    },
    {
     "data": {
      "application/vnd.jupyter.widget-view+json": {
       "model_id": "b19ab8e0bbf243d3a66600e405a271e5",
       "version_major": 2,
       "version_minor": 0
      },
      "text/plain": [
       "  0%|          | 0/300 [00:00<?, ?it/s]"
      ]
     },
     "metadata": {},
     "output_type": "display_data"
    },
    {
     "data": {
      "application/vnd.jupyter.widget-view+json": {
       "model_id": "a7e9e89c35ee4067afab6edfbc04da11",
       "version_major": 2,
       "version_minor": 0
      },
      "text/plain": [
       "  0%|          | 0/300 [00:00<?, ?it/s]"
      ]
     },
     "metadata": {},
     "output_type": "display_data"
    },
    {
     "name": "stdout",
     "output_type": "stream",
     "text": [
      "Test TAUS\n",
      "Test each seed\n",
      "Test ensemble\n"
     ]
    },
    {
     "data": {
      "application/vnd.jupyter.widget-view+json": {
       "model_id": "5c274515240a420bbc19edc1cabb805a",
       "version_major": 2,
       "version_minor": 0
      },
      "text/plain": [
       "0it [00:00, ?it/s]"
      ]
     },
     "metadata": {},
     "output_type": "display_data"
    },
    {
     "data": {
      "application/vnd.jupyter.widget-view+json": {
       "model_id": "8301de3c567a48088e082be1831106b6",
       "version_major": 2,
       "version_minor": 0
      },
      "text/plain": [
       "  0%|          | 0/300 [00:00<?, ?it/s]"
      ]
     },
     "metadata": {},
     "output_type": "display_data"
    },
    {
     "data": {
      "application/vnd.jupyter.widget-view+json": {
       "model_id": "2a039130a60943bb951bed9e883f8b54",
       "version_major": 2,
       "version_minor": 0
      },
      "text/plain": [
       "  0%|          | 0/300 [00:00<?, ?it/s]"
      ]
     },
     "metadata": {},
     "output_type": "display_data"
    },
    {
     "data": {
      "application/vnd.jupyter.widget-view+json": {
       "model_id": "fbd9c69c18cb4705bb3061149a3e7a1a",
       "version_major": 2,
       "version_minor": 0
      },
      "text/plain": [
       "  0%|          | 0/300 [00:00<?, ?it/s]"
      ]
     },
     "metadata": {},
     "output_type": "display_data"
    },
    {
     "data": {
      "application/vnd.jupyter.widget-view+json": {
       "model_id": "6b40102eb3bc4b06ac0b98c06345d97a",
       "version_major": 2,
       "version_minor": 0
      },
      "text/plain": [
       "  0%|          | 0/300 [00:00<?, ?it/s]"
      ]
     },
     "metadata": {},
     "output_type": "display_data"
    },
    {
     "data": {
      "application/vnd.jupyter.widget-view+json": {
       "model_id": "3a4a6a01593145518207c7e6e6541988",
       "version_major": 2,
       "version_minor": 0
      },
      "text/plain": [
       "  0%|          | 0/300 [00:00<?, ?it/s]"
      ]
     },
     "metadata": {},
     "output_type": "display_data"
    },
    {
     "data": {
      "application/vnd.jupyter.widget-view+json": {
       "model_id": "a4c184d4936d43be853d834b08169ff6",
       "version_major": 2,
       "version_minor": 0
      },
      "text/plain": [
       "  0%|          | 0/300 [00:00<?, ?it/s]"
      ]
     },
     "metadata": {},
     "output_type": "display_data"
    },
    {
     "data": {
      "application/vnd.jupyter.widget-view+json": {
       "model_id": "3e6c55ce743a43458ccfbee7a93018ea",
       "version_major": 2,
       "version_minor": 0
      },
      "text/plain": [
       "  0%|          | 0/300 [00:00<?, ?it/s]"
      ]
     },
     "metadata": {},
     "output_type": "display_data"
    },
    {
     "data": {
      "application/vnd.jupyter.widget-view+json": {
       "model_id": "2b23fae8d56e4c689d81c4836c3b2aa3",
       "version_major": 2,
       "version_minor": 0
      },
      "text/plain": [
       "  0%|          | 0/300 [00:00<?, ?it/s]"
      ]
     },
     "metadata": {},
     "output_type": "display_data"
    },
    {
     "data": {
      "application/vnd.jupyter.widget-view+json": {
       "model_id": "b314f653bf634193bd643989cfa271ca",
       "version_major": 2,
       "version_minor": 0
      },
      "text/plain": [
       "  0%|          | 0/300 [00:00<?, ?it/s]"
      ]
     },
     "metadata": {},
     "output_type": "display_data"
    },
    {
     "data": {
      "application/vnd.jupyter.widget-view+json": {
       "model_id": "53cb224523a6447b929cde328d36d1a8",
       "version_major": 2,
       "version_minor": 0
      },
      "text/plain": [
       "  0%|          | 0/300 [00:00<?, ?it/s]"
      ]
     },
     "metadata": {},
     "output_type": "display_data"
    },
    {
     "name": "stdout",
     "output_type": "stream",
     "text": [
      "Test TAUS\n",
      "Test each seed\n",
      "Test ensemble\n"
     ]
    },
    {
     "data": {
      "application/vnd.jupyter.widget-view+json": {
       "model_id": "0796a6a4f9984e3ebf853945fce9cf54",
       "version_major": 2,
       "version_minor": 0
      },
      "text/plain": [
       "0it [00:00, ?it/s]"
      ]
     },
     "metadata": {},
     "output_type": "display_data"
    },
    {
     "data": {
      "application/vnd.jupyter.widget-view+json": {
       "model_id": "a1ccaf03c5a2462d866431fd80c75679",
       "version_major": 2,
       "version_minor": 0
      },
      "text/plain": [
       "  0%|          | 0/300 [00:00<?, ?it/s]"
      ]
     },
     "metadata": {},
     "output_type": "display_data"
    },
    {
     "data": {
      "application/vnd.jupyter.widget-view+json": {
       "model_id": "12d57efc78bd4600b85a61193abca510",
       "version_major": 2,
       "version_minor": 0
      },
      "text/plain": [
       "  0%|          | 0/300 [00:00<?, ?it/s]"
      ]
     },
     "metadata": {},
     "output_type": "display_data"
    },
    {
     "data": {
      "application/vnd.jupyter.widget-view+json": {
       "model_id": "8bd95978ca1f430c94780de843ca1709",
       "version_major": 2,
       "version_minor": 0
      },
      "text/plain": [
       "  0%|          | 0/300 [00:00<?, ?it/s]"
      ]
     },
     "metadata": {},
     "output_type": "display_data"
    },
    {
     "data": {
      "application/vnd.jupyter.widget-view+json": {
       "model_id": "390a1ffe044a482c9cc51d87e08dd95e",
       "version_major": 2,
       "version_minor": 0
      },
      "text/plain": [
       "  0%|          | 0/300 [00:00<?, ?it/s]"
      ]
     },
     "metadata": {},
     "output_type": "display_data"
    },
    {
     "data": {
      "application/vnd.jupyter.widget-view+json": {
       "model_id": "f4fa8e8d5b644aaea5177c4ecd0d80e0",
       "version_major": 2,
       "version_minor": 0
      },
      "text/plain": [
       "  0%|          | 0/300 [00:00<?, ?it/s]"
      ]
     },
     "metadata": {},
     "output_type": "display_data"
    },
    {
     "data": {
      "application/vnd.jupyter.widget-view+json": {
       "model_id": "46b36a703add41ecb9227eb60cfbd0de",
       "version_major": 2,
       "version_minor": 0
      },
      "text/plain": [
       "  0%|          | 0/300 [00:00<?, ?it/s]"
      ]
     },
     "metadata": {},
     "output_type": "display_data"
    },
    {
     "data": {
      "application/vnd.jupyter.widget-view+json": {
       "model_id": "e02eba8fe98a4033810e9286ce02ac93",
       "version_major": 2,
       "version_minor": 0
      },
      "text/plain": [
       "  0%|          | 0/300 [00:00<?, ?it/s]"
      ]
     },
     "metadata": {},
     "output_type": "display_data"
    },
    {
     "data": {
      "application/vnd.jupyter.widget-view+json": {
       "model_id": "699c91f98315426e933dc1e4c7ee7486",
       "version_major": 2,
       "version_minor": 0
      },
      "text/plain": [
       "  0%|          | 0/300 [00:00<?, ?it/s]"
      ]
     },
     "metadata": {},
     "output_type": "display_data"
    },
    {
     "data": {
      "application/vnd.jupyter.widget-view+json": {
       "model_id": "2174c7a772ab487f9f14c8eecce4706b",
       "version_major": 2,
       "version_minor": 0
      },
      "text/plain": [
       "  0%|          | 0/300 [00:00<?, ?it/s]"
      ]
     },
     "metadata": {},
     "output_type": "display_data"
    },
    {
     "data": {
      "application/vnd.jupyter.widget-view+json": {
       "model_id": "ac24b636881b40f9838d14530d7273dc",
       "version_major": 2,
       "version_minor": 0
      },
      "text/plain": [
       "  0%|          | 0/300 [00:00<?, ?it/s]"
      ]
     },
     "metadata": {},
     "output_type": "display_data"
    },
    {
     "name": "stdout",
     "output_type": "stream",
     "text": [
      "Test TAUS\n",
      "Test each seed\n",
      "Test ensemble\n"
     ]
    },
    {
     "data": {
      "application/vnd.jupyter.widget-view+json": {
       "model_id": "d2c8995e210f40cc87774c59130521d5",
       "version_major": 2,
       "version_minor": 0
      },
      "text/plain": [
       "0it [00:00, ?it/s]"
      ]
     },
     "metadata": {},
     "output_type": "display_data"
    },
    {
     "data": {
      "application/vnd.jupyter.widget-view+json": {
       "model_id": "c1a82778813d4561911ca975eb6756db",
       "version_major": 2,
       "version_minor": 0
      },
      "text/plain": [
       "  0%|          | 0/300 [00:00<?, ?it/s]"
      ]
     },
     "metadata": {},
     "output_type": "display_data"
    },
    {
     "data": {
      "application/vnd.jupyter.widget-view+json": {
       "model_id": "fade41f2932d47efabb416ff9d5910b0",
       "version_major": 2,
       "version_minor": 0
      },
      "text/plain": [
       "  0%|          | 0/300 [00:00<?, ?it/s]"
      ]
     },
     "metadata": {},
     "output_type": "display_data"
    },
    {
     "data": {
      "application/vnd.jupyter.widget-view+json": {
       "model_id": "4937fa0c7fb941cc805c84ab69bb95a0",
       "version_major": 2,
       "version_minor": 0
      },
      "text/plain": [
       "  0%|          | 0/300 [00:00<?, ?it/s]"
      ]
     },
     "metadata": {},
     "output_type": "display_data"
    },
    {
     "data": {
      "application/vnd.jupyter.widget-view+json": {
       "model_id": "137e56c929bf4f8980e1fe5d65fea611",
       "version_major": 2,
       "version_minor": 0
      },
      "text/plain": [
       "  0%|          | 0/300 [00:00<?, ?it/s]"
      ]
     },
     "metadata": {},
     "output_type": "display_data"
    },
    {
     "data": {
      "application/vnd.jupyter.widget-view+json": {
       "model_id": "fc4712a6e156450fa9c55fdcea99dccd",
       "version_major": 2,
       "version_minor": 0
      },
      "text/plain": [
       "  0%|          | 0/300 [00:00<?, ?it/s]"
      ]
     },
     "metadata": {},
     "output_type": "display_data"
    },
    {
     "data": {
      "application/vnd.jupyter.widget-view+json": {
       "model_id": "aa651ee90bfa498cae9a5914076b6ce3",
       "version_major": 2,
       "version_minor": 0
      },
      "text/plain": [
       "  0%|          | 0/300 [00:00<?, ?it/s]"
      ]
     },
     "metadata": {},
     "output_type": "display_data"
    },
    {
     "data": {
      "application/vnd.jupyter.widget-view+json": {
       "model_id": "adc06a4240e9452586eb2386e2bbf3cc",
       "version_major": 2,
       "version_minor": 0
      },
      "text/plain": [
       "  0%|          | 0/300 [00:00<?, ?it/s]"
      ]
     },
     "metadata": {},
     "output_type": "display_data"
    },
    {
     "data": {
      "application/vnd.jupyter.widget-view+json": {
       "model_id": "a24d3d9c54af40b9a2fa6923e4b6e6b4",
       "version_major": 2,
       "version_minor": 0
      },
      "text/plain": [
       "  0%|          | 0/300 [00:00<?, ?it/s]"
      ]
     },
     "metadata": {},
     "output_type": "display_data"
    },
    {
     "data": {
      "application/vnd.jupyter.widget-view+json": {
       "model_id": "8430d5ba4c0149259eadc399448e5e29",
       "version_major": 2,
       "version_minor": 0
      },
      "text/plain": [
       "  0%|          | 0/300 [00:00<?, ?it/s]"
      ]
     },
     "metadata": {},
     "output_type": "display_data"
    },
    {
     "data": {
      "application/vnd.jupyter.widget-view+json": {
       "model_id": "e3e148b00cf64e6286236c5609595c26",
       "version_major": 2,
       "version_minor": 0
      },
      "text/plain": [
       "  0%|          | 0/300 [00:00<?, ?it/s]"
      ]
     },
     "metadata": {},
     "output_type": "display_data"
    },
    {
     "name": "stdout",
     "output_type": "stream",
     "text": [
      "Test TAUS\n",
      "Test each seed\n",
      "Test ensemble\n"
     ]
    },
    {
     "data": {
      "application/vnd.jupyter.widget-view+json": {
       "model_id": "ce8f04beaf8441b38f66e73c4454ebb7",
       "version_major": 2,
       "version_minor": 0
      },
      "text/plain": [
       "0it [00:00, ?it/s]"
      ]
     },
     "metadata": {},
     "output_type": "display_data"
    },
    {
     "data": {
      "application/vnd.jupyter.widget-view+json": {
       "model_id": "f7efa1e1b4034431b071c88b3bb89cd8",
       "version_major": 2,
       "version_minor": 0
      },
      "text/plain": [
       "  0%|          | 0/300 [00:00<?, ?it/s]"
      ]
     },
     "metadata": {},
     "output_type": "display_data"
    },
    {
     "data": {
      "application/vnd.jupyter.widget-view+json": {
       "model_id": "5ccfd5fa609542308e09a3789dde7266",
       "version_major": 2,
       "version_minor": 0
      },
      "text/plain": [
       "  0%|          | 0/300 [00:00<?, ?it/s]"
      ]
     },
     "metadata": {},
     "output_type": "display_data"
    },
    {
     "data": {
      "application/vnd.jupyter.widget-view+json": {
       "model_id": "e9ac90c0a3e148f4a515d01407d39bc4",
       "version_major": 2,
       "version_minor": 0
      },
      "text/plain": [
       "  0%|          | 0/300 [00:00<?, ?it/s]"
      ]
     },
     "metadata": {},
     "output_type": "display_data"
    },
    {
     "data": {
      "application/vnd.jupyter.widget-view+json": {
       "model_id": "d4e3292d75a541038385c211f77fa239",
       "version_major": 2,
       "version_minor": 0
      },
      "text/plain": [
       "  0%|          | 0/300 [00:00<?, ?it/s]"
      ]
     },
     "metadata": {},
     "output_type": "display_data"
    },
    {
     "data": {
      "application/vnd.jupyter.widget-view+json": {
       "model_id": "8c4851e8b66e4feeadcd3ab4ad7de345",
       "version_major": 2,
       "version_minor": 0
      },
      "text/plain": [
       "  0%|          | 0/300 [00:00<?, ?it/s]"
      ]
     },
     "metadata": {},
     "output_type": "display_data"
    },
    {
     "data": {
      "application/vnd.jupyter.widget-view+json": {
       "model_id": "399d4544ed604ecd9f4753a38c00a484",
       "version_major": 2,
       "version_minor": 0
      },
      "text/plain": [
       "  0%|          | 0/300 [00:00<?, ?it/s]"
      ]
     },
     "metadata": {},
     "output_type": "display_data"
    },
    {
     "data": {
      "application/vnd.jupyter.widget-view+json": {
       "model_id": "97db64ce81384b7e8dfbe5e50a2de17d",
       "version_major": 2,
       "version_minor": 0
      },
      "text/plain": [
       "  0%|          | 0/300 [00:00<?, ?it/s]"
      ]
     },
     "metadata": {},
     "output_type": "display_data"
    },
    {
     "data": {
      "application/vnd.jupyter.widget-view+json": {
       "model_id": "1edd07ffbf404dfd862f5622aa0cd08a",
       "version_major": 2,
       "version_minor": 0
      },
      "text/plain": [
       "  0%|          | 0/300 [00:00<?, ?it/s]"
      ]
     },
     "metadata": {},
     "output_type": "display_data"
    },
    {
     "data": {
      "application/vnd.jupyter.widget-view+json": {
       "model_id": "460111f948c34eb890533bb9c066f1ba",
       "version_major": 2,
       "version_minor": 0
      },
      "text/plain": [
       "  0%|          | 0/300 [00:00<?, ?it/s]"
      ]
     },
     "metadata": {},
     "output_type": "display_data"
    },
    {
     "data": {
      "application/vnd.jupyter.widget-view+json": {
       "model_id": "e3dcef7e754b4f2593d50a813376f024",
       "version_major": 2,
       "version_minor": 0
      },
      "text/plain": [
       "  0%|          | 0/300 [00:00<?, ?it/s]"
      ]
     },
     "metadata": {},
     "output_type": "display_data"
    },
    {
     "name": "stdout",
     "output_type": "stream",
     "text": [
      "Test TAUS\n",
      "Test each seed\n",
      "Test ensemble\n"
     ]
    },
    {
     "data": {
      "application/vnd.jupyter.widget-view+json": {
       "model_id": "94eb8a7975ee49ddac989a19b1561627",
       "version_major": 2,
       "version_minor": 0
      },
      "text/plain": [
       "0it [00:00, ?it/s]"
      ]
     },
     "metadata": {},
     "output_type": "display_data"
    },
    {
     "data": {
      "application/vnd.jupyter.widget-view+json": {
       "model_id": "be97664e64d2493eb3fc00e2fca281c5",
       "version_major": 2,
       "version_minor": 0
      },
      "text/plain": [
       "  0%|          | 0/300 [00:00<?, ?it/s]"
      ]
     },
     "metadata": {},
     "output_type": "display_data"
    },
    {
     "data": {
      "application/vnd.jupyter.widget-view+json": {
       "model_id": "d12118673b44436a8da19270e76cb764",
       "version_major": 2,
       "version_minor": 0
      },
      "text/plain": [
       "  0%|          | 0/300 [00:00<?, ?it/s]"
      ]
     },
     "metadata": {},
     "output_type": "display_data"
    },
    {
     "data": {
      "application/vnd.jupyter.widget-view+json": {
       "model_id": "965454e84af7437dbf11b703b02117eb",
       "version_major": 2,
       "version_minor": 0
      },
      "text/plain": [
       "  0%|          | 0/300 [00:00<?, ?it/s]"
      ]
     },
     "metadata": {},
     "output_type": "display_data"
    },
    {
     "data": {
      "application/vnd.jupyter.widget-view+json": {
       "model_id": "2836f6ab5f164f4085ad60f667882123",
       "version_major": 2,
       "version_minor": 0
      },
      "text/plain": [
       "  0%|          | 0/300 [00:00<?, ?it/s]"
      ]
     },
     "metadata": {},
     "output_type": "display_data"
    },
    {
     "data": {
      "application/vnd.jupyter.widget-view+json": {
       "model_id": "c4e5b12085954a62b8d2b51f21eef6eb",
       "version_major": 2,
       "version_minor": 0
      },
      "text/plain": [
       "  0%|          | 0/300 [00:00<?, ?it/s]"
      ]
     },
     "metadata": {},
     "output_type": "display_data"
    },
    {
     "data": {
      "application/vnd.jupyter.widget-view+json": {
       "model_id": "a367ead6a05a46dfbfb21ace2ff84aa5",
       "version_major": 2,
       "version_minor": 0
      },
      "text/plain": [
       "  0%|          | 0/300 [00:00<?, ?it/s]"
      ]
     },
     "metadata": {},
     "output_type": "display_data"
    },
    {
     "data": {
      "application/vnd.jupyter.widget-view+json": {
       "model_id": "403e8c49fa5646558ad4a213f6a82d4b",
       "version_major": 2,
       "version_minor": 0
      },
      "text/plain": [
       "  0%|          | 0/300 [00:00<?, ?it/s]"
      ]
     },
     "metadata": {},
     "output_type": "display_data"
    },
    {
     "data": {
      "application/vnd.jupyter.widget-view+json": {
       "model_id": "25340be1b9bb49e8b8278358c4e346da",
       "version_major": 2,
       "version_minor": 0
      },
      "text/plain": [
       "  0%|          | 0/300 [00:00<?, ?it/s]"
      ]
     },
     "metadata": {},
     "output_type": "display_data"
    },
    {
     "data": {
      "application/vnd.jupyter.widget-view+json": {
       "model_id": "a47df45bd7e148e2bb145701c702f7fb",
       "version_major": 2,
       "version_minor": 0
      },
      "text/plain": [
       "  0%|          | 0/300 [00:00<?, ?it/s]"
      ]
     },
     "metadata": {},
     "output_type": "display_data"
    },
    {
     "data": {
      "application/vnd.jupyter.widget-view+json": {
       "model_id": "7d7f16ef52874f6ea22163ab217a7525",
       "version_major": 2,
       "version_minor": 0
      },
      "text/plain": [
       "  0%|          | 0/300 [00:00<?, ?it/s]"
      ]
     },
     "metadata": {},
     "output_type": "display_data"
    },
    {
     "data": {
      "application/vnd.jupyter.widget-view+json": {
       "model_id": "474a44bcfcf14e50973372e6c9a8e62e",
       "version_major": 2,
       "version_minor": 0
      },
      "text/plain": [
       "  0%|          | 0/300 [00:00<?, ?it/s]"
      ]
     },
     "metadata": {},
     "output_type": "display_data"
    },
    {
     "data": {
      "application/vnd.jupyter.widget-view+json": {
       "model_id": "8beebc25ac7c4f5ab3038aa35dc18a74",
       "version_major": 2,
       "version_minor": 0
      },
      "text/plain": [
       "  0%|          | 0/300 [00:00<?, ?it/s]"
      ]
     },
     "metadata": {},
     "output_type": "display_data"
    },
    {
     "data": {
      "application/vnd.jupyter.widget-view+json": {
       "model_id": "9ae0c21f455c4535aad7db6ede973b60",
       "version_major": 2,
       "version_minor": 0
      },
      "text/plain": [
       "  0%|          | 0/300 [00:00<?, ?it/s]"
      ]
     },
     "metadata": {},
     "output_type": "display_data"
    },
    {
     "data": {
      "application/vnd.jupyter.widget-view+json": {
       "model_id": "ee850972967a4c8b95fe778236ff45a1",
       "version_major": 2,
       "version_minor": 0
      },
      "text/plain": [
       "  0%|          | 0/300 [00:00<?, ?it/s]"
      ]
     },
     "metadata": {},
     "output_type": "display_data"
    },
    {
     "name": "stderr",
     "output_type": "stream",
     "text": [
      "IOPub message rate exceeded.\n",
      "The notebook server will temporarily stop sending output\n",
      "to the client in order to avoid crashing it.\n",
      "To change this limit, set the config variable\n",
      "`--NotebookApp.iopub_msg_rate_limit`.\n",
      "\n",
      "Current values:\n",
      "NotebookApp.iopub_msg_rate_limit=1000.0 (msgs/sec)\n",
      "NotebookApp.rate_limit_window=3.0 (secs)\n",
      "\n"
     ]
    }
   ],
   "source": [
    "results = dict()\n",
    "\n",
    "for i in range(10): \n",
    "    results[i] = dict()\n",
    "    \n",
    "    train_df, val_df, test_df = splitter.transform(data)\n",
    "    \n",
    "    train_dataset = create_sparse_dataset(train_df)\n",
    "    train_positives = create_positives_dataset(train_df)\n",
    "    val_positives = create_positives_dataset(val_df)\n",
    "    test_positives = create_positives_dataset(test_df)\n",
    "    \n",
    "    SEED = i\n",
    "    DIM = 128\n",
    "    LR_START = 1e-2\n",
    "    LR_END = 1e-3\n",
    "    EPOCHS = 300\n",
    "    RESTART_EPOCHS = 100\n",
    "    REG_FACTOR = 1e-2\n",
    "\n",
    "    set_seed(SEED)\n",
    "    model = get_model(SEED)\n",
    "    model.iterations = 0\n",
    "    model.fit(train_dataset, callback=CallbackClass().callback_fn)\n",
    "\n",
    "    user_factors = model.user_factors.copy()\n",
    "    item_factors = model.item_factors.copy()\n",
    "    \n",
    "    recs_by_seed = []\n",
    "    models_by_seed = []\n",
    "    \n",
    "    seeds = np.random.choice(10_000, 10)\n",
    "    \n",
    "    for seed in seeds:\n",
    "        set_seed(seed)\n",
    "        \n",
    "        model = get_model(seed)\n",
    "        model.user_factors = user_factors.copy()\n",
    "        model.item_factors = item_factors.copy()\n",
    "\n",
    "        fit_callback = CallbackClass()\n",
    "        model.fit(train_dataset, callback=fit_callback.callback_fn)\n",
    "\n",
    "        index = faiss.IndexFlatIP(DIM)\n",
    "        index.add(model.item_factors)\n",
    "        recs = index.search(model.user_factors, 50)[1]\n",
    "\n",
    "        recs_by_seed.append(recs)\n",
    "        models_by_seed.append(model)\n",
    "\n",
    "        for k in [5, 10]:\n",
    "            map_list = []\n",
    "            recall_list = []\n",
    "            for user_id, y_true in test_positives.items():\n",
    "                y_pred = [\n",
    "                    item_id for item_id in recs[user_id]\n",
    "                    if item_id not in train_positives.get(user_id, set())\n",
    "                ]\n",
    "                \n",
    "                map_list.append(user_ap(y_pred, y_true, k))\n",
    "                recall_list.append(user_recall(y_pred, y_true, k))\n",
    "        \n",
    "        user_tau = [model.user_factors - user_factors for model in models_by_seed]\n",
    "        item_tau = [model.item_factors - item_factors for model in models_by_seed]\n",
    "        \n",
    "    best_init_alpha, best_score = None, None\n",
    "    for init_alpha in np.linspace(0.01, 0.5, 100):\n",
    "        new_item_factors = item_factors.copy()\n",
    "        new_user_factors = user_factors.copy()\n",
    "\n",
    "        alpha = init_alpha\n",
    "        for tau in item_tau:\n",
    "            new_item_factors += alpha * tau\n",
    "\n",
    "        alpha = init_alpha\n",
    "        for tau in user_tau:\n",
    "            new_user_factors += alpha * tau\n",
    "\n",
    "        index = faiss.IndexFlatIP(DIM)\n",
    "        index.add(new_item_factors)\n",
    "        recs = index.search(new_user_factors, 30)[1]\n",
    "        \n",
    "        for k in [5, 10]:\n",
    "            recall_list = []\n",
    "            for user_id, y_true in val_positives.items():\n",
    "                y_pred = [\n",
    "                    item_id for item_id in recs[user_id]\n",
    "                    if item_id not in train_positives.get(user_id, set())\n",
    "                ]\n",
    "                recall_list.append(user_recall(y_pred, y_true, k))\n",
    "\n",
    "            if k == 10:\n",
    "                if best_score is None or best_score < np.mean(recall_list):\n",
    "                    best_init_alpha, best_score = init_alpha, np.mean(recall_list)\n",
    "    \n",
    "    results[i][\"best_alpha\"] = best_init_alpha\n",
    "    results[i][\"best_score\"] = best_score\n",
    "\n",
    "    new_item_factors = item_factors.copy()\n",
    "    new_user_factors = user_factors.copy()\n",
    "\n",
    "    for tau in item_tau:\n",
    "        new_item_factors += best_init_alpha * tau\n",
    "    for tau in user_tau:\n",
    "        new_user_factors += best_init_alpha * tau\n",
    "\n",
    "    index = faiss.IndexFlatIP(DIM)\n",
    "    index.add(new_item_factors)\n",
    "    recs = index.search(new_user_factors, 50)[1]\n",
    "\n",
    "    print(\"Test TAUS\")    \n",
    "    \n",
    "    for k in [5, 10]:\n",
    "        map_list = []\n",
    "        recall_list = []\n",
    "        for user_id, y_true in test_positives.items():\n",
    "            y_pred = [\n",
    "                item_id for item_id in recs[user_id]\n",
    "                if item_id not in train_positives.get(user_id, set())\n",
    "            ]\n",
    "            map_list.append(user_ap(y_pred, y_true, k))\n",
    "            recall_list.append(user_recall(y_pred, y_true, k))\n",
    "            \n",
    "        results[i][f\"Recall@{k}_taus\"] = round(np.mean(recall_list), 4)\n",
    "        results[i][f\"MAP@{k}_taus\"] = round(np.nanmean(map_list), 4)\n",
    "        \n",
    "    print(\"Test each seed\")\n",
    "    \n",
    "    recalls_10 = []\n",
    "    for j, model in enumerate(models_by_seed):\n",
    "        index = faiss.IndexFlatIP(DIM)\n",
    "        index.add(model.item_factors)\n",
    "        recs = index.search(model.user_factors, 50)[1]\n",
    "\n",
    "        for k in [5, 10]:\n",
    "            map_list = []\n",
    "            recall_list = []\n",
    "            for user_id, y_true in test_positives.items():\n",
    "                y_pred = [\n",
    "                    item_id for item_id in recs[user_id]\n",
    "                    if item_id not in train_positives.get(user_id, set())\n",
    "                ]\n",
    "                map_list.append(user_ap(y_pred, y_true, k))\n",
    "                recall_list.append(user_recall(y_pred, y_true, k))\n",
    "            \n",
    "            results[i][f\"Recall@{k}_{j}\"] = round(np.mean(recall_list), 4)\n",
    "            results[i][f\"MAP@{k}_{j}\"] = round(np.nanmean(map_list), 4)\n",
    "            \n",
    "            if k == 10:\n",
    "                recalls_10.append(round(np.mean(recall_list), 4))\n",
    "                    \n",
    "    print(\"Test ensemble\")\n",
    "    \n",
    "    def softmax(x):\n",
    "        return np.exp(x)/sum(np.exp(x))\n",
    "    \n",
    "    weights = softmax(recalls_10)\n",
    "    new_user_factors = np.average([model.user_factors for model in models_by_seed], axis=0, weights=weights)\n",
    "    new_item_factors = np.average([model.item_factors for model in models_by_seed], axis=0, weights=weights)\n",
    "\n",
    "    index = faiss.IndexFlatIP(DIM)\n",
    "    index.add(new_item_factors)\n",
    "    recs = index.search(new_user_factors, 50)[1]\n",
    "\n",
    "    for k in [5, 10]:\n",
    "        map_list = []\n",
    "        recall_list = []\n",
    "        for user_id, y_true in test_positives.items():\n",
    "            y_pred = [\n",
    "                item_id for item_id in recs[user_id]\n",
    "                if item_id not in train_positives.get(user_id, set())\n",
    "            ]\n",
    "            map_list.append(user_ap(y_pred, y_true, k))\n",
    "            recall_list.append(user_recall(y_pred, y_true, k))\n",
    "        \n",
    "        results[i][f\"Recall@{k}_mean\"] = round(np.mean(recall_list), 4)\n",
    "        results[i][f\"MAP@{k}_mean\"] = round(np.nanmean(map_list), 4)\n"
   ]
  },
  {
   "cell_type": "code",
   "execution_count": null,
   "id": "fef22bf9",
   "metadata": {},
   "outputs": [],
   "source": [
    "import json\n",
    "\n",
    "json_dict = json.dumps(results)\n",
    "with open(f\"result_{dataset}.json\", \"w\") as outfile:\n",
    "    json.dump(json_dict, outfile)"
   ]
  },
  {
   "cell_type": "code",
   "execution_count": null,
   "id": "97e34edc",
   "metadata": {},
   "outputs": [],
   "source": []
  }
 ],
 "metadata": {
  "kernelspec": {
   "display_name": "Python 3 (ipykernel)",
   "language": "python",
   "name": "python3"
  },
  "language_info": {
   "codemirror_mode": {
    "name": "ipython",
    "version": 3
   },
   "file_extension": ".py",
   "mimetype": "text/x-python",
   "name": "python",
   "nbconvert_exporter": "python",
   "pygments_lexer": "ipython3",
   "version": "3.8.13"
  }
 },
 "nbformat": 4,
 "nbformat_minor": 5
}
